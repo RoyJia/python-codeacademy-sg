{
 "cells": [
  {
   "cell_type": "markdown",
   "metadata": {},
   "source": [
    "## Lesson 8 Overview"
   ]
  },
  {
   "cell_type": "markdown",
   "metadata": {},
   "source": [
    "## Let's load today's lesson!\n",
    "\n",
    "### Open Azure Notebooks library \n",
    "\n",
    "Go to https://notebooks.azure.com -> Sign in if needed -> Select **python-codeacademy-sg**\n",
    "\n",
    "### Update lesson file to latest version\n",
    "\n",
    "Select **New** -> **From URL** -> input https://raw.githubusercontent.com/viettrung9012/python-codeacademy-sg/master/Lesson8.ipynb (URL is available in **Lesson8.ipynb**) -> Click outside input then select **Upload** (overwrite if needed)\n",
    "\n",
    "### Open JupyterLab\n",
    "\n",
    "From your browser's bookmark or **Run** -> Change browser URL path from **/nb/tree** to **/nb/lab**\n",
    "\n",
    "Select **Lesson8.ipynb**"
   ]
  },
  {
   "cell_type": "markdown",
   "metadata": {},
   "source": [
    "## Let's talk about Pandas\n",
    "\n",
    "What *is* Pandas? [Pandas](https://pandas.pydata.org/) is an open source library providing high-performance, easy-to-use data structures and data analysis tools for Python. Though you might have been thinking about adorable black and white pandas, this name was actually derived from the term *\"panel data\"*, an econometrics term for data sets that include observations over multiple time periods for the same individuals."
   ]
  },
  {
   "cell_type": "code",
   "execution_count": null,
   "metadata": {},
   "outputs": [],
   "source": [
    "# import pandas library and read into dataframe\n",
    "\n",
    "import pandas as pd\n",
    "df = pd.read_csv('Biggest Loser 2018.csv')"
   ]
  },
  {
   "cell_type": "code",
   "execution_count": null,
   "metadata": {},
   "outputs": [],
   "source": [
    "# list dataframe in tabular format\n",
    "\n",
    "df"
   ]
  },
  {
   "cell_type": "code",
   "execution_count": null,
   "metadata": {},
   "outputs": [],
   "source": [
    "# identify column names\n",
    "\n",
    "df.columns"
   ]
  },
  {
   "cell_type": "code",
   "execution_count": null,
   "metadata": {},
   "outputs": [],
   "source": [
    "# retrieve data from a specific column, e.g. team name\n",
    "\n",
    "df['team_name']"
   ]
  },
  {
   "cell_type": "code",
   "execution_count": null,
   "metadata": {},
   "outputs": [],
   "source": [
    "# retrieve unique team names\n",
    "\n",
    "df['team_name'].unique()"
   ]
  },
  {
   "cell_type": "code",
   "execution_count": null,
   "metadata": {},
   "outputs": [],
   "source": [
    "# retrieve data for a specific team number, e.g. team 1\n",
    "\n",
    "df.loc[df['team_no'] == 1]"
   ]
  },
  {
   "cell_type": "code",
   "execution_count": null,
   "metadata": {},
   "outputs": [],
   "source": [
    "# retrieve data for a specific team member, e.g. 1-5\n",
    "\n",
    "df.loc[df['team_member'] == \"1-5\"]"
   ]
  },
  {
   "cell_type": "code",
   "execution_count": null,
   "metadata": {},
   "outputs": [],
   "source": [
    "# add a column called member_tot_steps to store total steps for each member for entire challenge\n",
    "# sort individuals by total steps in descending order; display top 3\n",
    "# axis=1 means rowwise, while axis=0 means column-wise\n",
    "\n",
    "df['member_tot_steps']= df.loc[:, '2018-04-02':'2018-04-29'].sum(axis=1)\n",
    "df.sort_values('member_tot_steps', ascending=False).head(3)"
   ]
  },
  {
   "cell_type": "code",
   "execution_count": null,
   "metadata": {},
   "outputs": [],
   "source": [
    "# sort and display in descending order, individuals who have exceeded 350K steps\n",
    "\n",
    "df[df['member_tot_steps']>350000].sort_values('member_tot_steps', ascending=False)"
   ]
  },
  {
   "cell_type": "code",
   "execution_count": null,
   "metadata": {},
   "outputs": [],
   "source": [
    "# add a column called member_avg_steps to store average steps for each member for entire challenge\n",
    "# sort individuals by average steps in descending order; display top 3\n",
    "# axis=1 means rowwise, while axis=0 means column-wise\n",
    "\n",
    "df['member_avg_steps']= df.loc[:, '2018-04-02':'2018-04-29'].mean(axis=1).round(0)\n",
    "df.sort_values('member_avg_steps', ascending=False).head(3)"
   ]
  },
  {
   "cell_type": "code",
   "execution_count": null,
   "metadata": {},
   "outputs": [],
   "source": [
    "# dislay highest step count for each individual\n",
    "\n",
    "df.loc[:, '2018-04-02':'2018-04-29'].max(axis=1)"
   ]
  },
  {
   "cell_type": "code",
   "execution_count": null,
   "metadata": {},
   "outputs": [],
   "source": [
    "# sum total daily steps for each team into a new data frame called team_df\n",
    "\n",
    "team_df = df.groupby('team_no').sum()\n",
    "team_df"
   ]
  },
  {
   "cell_type": "code",
   "execution_count": null,
   "metadata": {},
   "outputs": [],
   "source": [
    "# remove a column e.g. team captain\n",
    "\n",
    "del team_df['team_captain']\n",
    "team_df"
   ]
  },
  {
   "cell_type": "code",
   "execution_count": null,
   "metadata": {},
   "outputs": [],
   "source": [
    "# add a column called team_tot_steps to store total steps for each team for entire challenge\n",
    "# sort teams by total steps in descending order; display top 3\n",
    "\n",
    "team_df['team_tot_steps']= team_df.loc[:, '2018-04-02':'2018-04-29'].sum(axis=1)\n",
    "team_df.sort_values('team_tot_steps', ascending=False).head(3)"
   ]
  },
  {
   "cell_type": "code",
   "execution_count": null,
   "metadata": {},
   "outputs": [],
   "source": [
    "# sort and display in descending order, teams who have exceeded 1 million steps\n",
    "\n",
    "team_df[team_df['team_tot_steps']>1000000].sort_values('team_tot_steps', ascending=False)"
   ]
  }
 ],
 "metadata": {
  "kernelspec": {
   "display_name": "Python 3",
   "language": "python",
   "name": "python3"
  },
  "language_info": {
   "codemirror_mode": {
    "name": "ipython",
    "version": 3
   },
   "file_extension": ".py",
   "mimetype": "text/x-python",
   "name": "python",
   "nbconvert_exporter": "python",
   "pygments_lexer": "ipython3",
   "version": "3.5.4"
  }
 },
 "nbformat": 4,
 "nbformat_minor": 2
}
