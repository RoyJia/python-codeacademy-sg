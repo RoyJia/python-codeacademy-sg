{
 "cells": [
  {
   "cell_type": "markdown",
   "metadata": {},
   "source": [
    "## Lesson 8 Overview"
   ]
  },
  {
   "cell_type": "markdown",
   "metadata": {},
   "source": [
    "## Let's load today's lesson!\n",
    "\n",
    "### Open Azure Notebooks library \n",
    "\n",
    "Go to https://notebooks.azure.com -> Sign in if needed -> Select **python-codeacademy-sg**\n",
    "\n",
    "### Update lesson file to latest version\n",
    "\n",
    "Select **New** -> **From URL** -> input https://raw.githubusercontent.com/viettrung9012/python-codeacademy-sg/master/Lesson8.ipynb (URL is available in **Lesson8.ipynb**) -> Click outside input then select **Upload** (overwrite if needed)\n",
    "\n",
    "### Open JupyterLab\n",
    "\n",
    "From your browser's bookmark or **Run** -> Change browser URL path from **/nb/tree** to **/nb/lab**\n",
    "\n",
    "Select **Lesson8.ipynb**"
   ]
  },
  {
   "cell_type": "markdown",
   "metadata": {},
   "source": [
    "## Let's talk about Pandas\n",
    "\n",
    "What *is* Pandas? [Pandas](https://pandas.pydata.org/) is an open source library providing high-performance, easy-to-use data structures and data analysis tools for Python. Though you might have been thinking about adorable black and white pandas, this name was actually derived from the term *\"panel data\"*, an econometrics term for data sets that include observations over multiple time periods for the same individuals."
   ]
  },
  {
   "cell_type": "code",
   "execution_count": null,
   "metadata": {},
   "outputs": [],
   "source": [
    "# import pandas library and read into dataframe\n",
    "\n",
    "import pandas as pd\n",
    "df = pd.read_csv('Biggest Loser 2018.csv')"
   ]
  },
  {
   "cell_type": "code",
   "execution_count": null,
   "metadata": {},
   "outputs": [],
   "source": [
    "# list dataframe in tabular format\n",
    "\n",
    "df"
   ]
  },
  {
   "cell_type": "code",
   "execution_count": null,
   "metadata": {},
   "outputs": [],
   "source": [
    "# identify column names\n",
    "\n",
    "df.columns"
   ]
  },
  {
   "cell_type": "code",
   "execution_count": null,
   "metadata": {},
   "outputs": [],
   "source": [
    "# retrieve data from a specific column, e.g. team name\n",
    "\n",
    "df['team_name']"
   ]
  },
  {
   "cell_type": "code",
   "execution_count": null,
   "metadata": {},
   "outputs": [],
   "source": [
    "# retrieve unique team names\n",
    "\n",
    "df['team_name'].unique()"
   ]
  },
  {
   "cell_type": "code",
   "execution_count": null,
   "metadata": {},
   "outputs": [],
   "source": [
    "# retrieve data for a specific team number, e.g. team 1\n",
    "\n",
    "df.loc[df['team_no'] == 1]"
   ]
  },
  {
   "cell_type": "code",
   "execution_count": null,
   "metadata": {},
   "outputs": [],
   "source": [
    "# retrieve data for a specific team member, e.g. 1-5\n",
    "\n",
    "df.loc[df['team_member'] == \"1-5\"]"
   ]
  },
  {
   "cell_type": "code",
   "execution_count": null,
   "metadata": {},
   "outputs": [],
   "source": [
    "# add a column called member_tot_steps to store total steps for each member for entire challenge\n",
    "# sort individuals by total steps in descending order; display top 3\n",
    "# axis=1 means rowwise, while axis=0 means column-wise\n",
    "\n",
    "df['member_tot_steps']= df.loc[:, '2018-04-02':'2018-04-29'].sum(axis=1)\n",
    "df.sort_values('member_tot_steps', ascending=False).head(3)"
   ]
  },
  {
   "cell_type": "code",
   "execution_count": null,
   "metadata": {},
   "outputs": [],
   "source": [
    "# sort and display in descending order, individuals who have exceeded 350K steps\n",
    "\n",
    "df[df['member_tot_steps']>350000].sort_values('member_tot_steps', ascending=False)"
   ]
  },
  {
   "cell_type": "code",
   "execution_count": 35,
   "metadata": {},
   "outputs": [
    {
     "data": {
      "text/html": [
       "<div>\n",
       "<table border=\"1\" class=\"dataframe\">\n",
       "  <thead>\n",
       "    <tr style=\"text-align: right;\">\n",
       "      <th></th>\n",
       "      <th>team_no</th>\n",
       "      <th>team_name</th>\n",
       "      <th>team_captain</th>\n",
       "      <th>team_member</th>\n",
       "      <th>2018-04-02</th>\n",
       "      <th>2018-04-03</th>\n",
       "      <th>2018-04-04</th>\n",
       "      <th>2018-04-05</th>\n",
       "      <th>2018-04-06</th>\n",
       "      <th>2018-04-07</th>\n",
       "      <th>...</th>\n",
       "      <th>2018-04-21</th>\n",
       "      <th>2018-04-22</th>\n",
       "      <th>2018-04-23</th>\n",
       "      <th>2018-04-24</th>\n",
       "      <th>2018-04-25</th>\n",
       "      <th>2018-04-26</th>\n",
       "      <th>2018-04-27</th>\n",
       "      <th>2018-04-28</th>\n",
       "      <th>2018-04-29</th>\n",
       "      <th>member_avg_steps</th>\n",
       "    </tr>\n",
       "    <tr>\n",
       "      <th>id2</th>\n",
       "      <th></th>\n",
       "      <th></th>\n",
       "      <th></th>\n",
       "      <th></th>\n",
       "      <th></th>\n",
       "      <th></th>\n",
       "      <th></th>\n",
       "      <th></th>\n",
       "      <th></th>\n",
       "      <th></th>\n",
       "      <th></th>\n",
       "      <th></th>\n",
       "      <th></th>\n",
       "      <th></th>\n",
       "      <th></th>\n",
       "      <th></th>\n",
       "      <th></th>\n",
       "      <th></th>\n",
       "      <th></th>\n",
       "      <th></th>\n",
       "      <th></th>\n",
       "    </tr>\n",
       "  </thead>\n",
       "  <tbody>\n",
       "    <tr>\n",
       "      <th>42</th>\n",
       "      <td>9</td>\n",
       "      <td>Just Step It</td>\n",
       "      <td>False</td>\n",
       "      <td>9-3</td>\n",
       "      <td>3000.0</td>\n",
       "      <td>3000</td>\n",
       "      <td>22455</td>\n",
       "      <td>10025</td>\n",
       "      <td>25172.0</td>\n",
       "      <td>31083</td>\n",
       "      <td>...</td>\n",
       "      <td>10621.0</td>\n",
       "      <td>16228.0</td>\n",
       "      <td>10621.0</td>\n",
       "      <td>NaN</td>\n",
       "      <td>NaN</td>\n",
       "      <td>NaN</td>\n",
       "      <td>NaN</td>\n",
       "      <td>NaN</td>\n",
       "      <td>NaN</td>\n",
       "      <td>15258.0</td>\n",
       "    </tr>\n",
       "    <tr>\n",
       "      <th>37</th>\n",
       "      <td>8</td>\n",
       "      <td>The Slimsons</td>\n",
       "      <td>True</td>\n",
       "      <td>8-3</td>\n",
       "      <td>8236.0</td>\n",
       "      <td>17181</td>\n",
       "      <td>17212</td>\n",
       "      <td>11077</td>\n",
       "      <td>20700.0</td>\n",
       "      <td>12917</td>\n",
       "      <td>...</td>\n",
       "      <td>22308.0</td>\n",
       "      <td>7878.0</td>\n",
       "      <td>8558.0</td>\n",
       "      <td>7966.0</td>\n",
       "      <td>7680.0</td>\n",
       "      <td>19611.0</td>\n",
       "      <td>9970.0</td>\n",
       "      <td>4038.0</td>\n",
       "      <td>3855.0</td>\n",
       "      <td>15146.0</td>\n",
       "    </tr>\n",
       "    <tr>\n",
       "      <th>59</th>\n",
       "      <td>12</td>\n",
       "      <td>Scrambled Legs</td>\n",
       "      <td>True</td>\n",
       "      <td>12-5</td>\n",
       "      <td>20592.0</td>\n",
       "      <td>19092</td>\n",
       "      <td>20154</td>\n",
       "      <td>17551</td>\n",
       "      <td>10438.0</td>\n",
       "      <td>19226</td>\n",
       "      <td>...</td>\n",
       "      <td>3435.0</td>\n",
       "      <td>2078.0</td>\n",
       "      <td>5960.0</td>\n",
       "      <td>13194.0</td>\n",
       "      <td>NaN</td>\n",
       "      <td>NaN</td>\n",
       "      <td>NaN</td>\n",
       "      <td>NaN</td>\n",
       "      <td>NaN</td>\n",
       "      <td>15009.0</td>\n",
       "    </tr>\n",
       "  </tbody>\n",
       "</table>\n",
       "<p>3 rows × 33 columns</p>\n",
       "</div>"
      ],
      "text/plain": [
       "     team_no       team_name team_captain team_member  2018-04-02  2018-04-03  \\\n",
       "id2                                                                             \n",
       "42         9    Just Step It        False         9-3      3000.0        3000   \n",
       "37         8    The Slimsons         True         8-3      8236.0       17181   \n",
       "59        12  Scrambled Legs         True        12-5     20592.0       19092   \n",
       "\n",
       "     2018-04-04  2018-04-05  2018-04-06  2018-04-07        ...         \\\n",
       "id2                                                        ...          \n",
       "42        22455       10025     25172.0       31083        ...          \n",
       "37        17212       11077     20700.0       12917        ...          \n",
       "59        20154       17551     10438.0       19226        ...          \n",
       "\n",
       "     2018-04-21  2018-04-22  2018-04-23  2018-04-24  2018-04-25  2018-04-26  \\\n",
       "id2                                                                           \n",
       "42      10621.0     16228.0     10621.0         NaN         NaN         NaN   \n",
       "37      22308.0      7878.0      8558.0      7966.0      7680.0     19611.0   \n",
       "59       3435.0      2078.0      5960.0     13194.0         NaN         NaN   \n",
       "\n",
       "     2018-04-27  2018-04-28  2018-04-29  member_avg_steps  \n",
       "id2                                                        \n",
       "42          NaN         NaN         NaN           15258.0  \n",
       "37       9970.0      4038.0      3855.0           15146.0  \n",
       "59          NaN         NaN         NaN           15009.0  \n",
       "\n",
       "[3 rows x 33 columns]"
      ]
     },
     "execution_count": 35,
     "metadata": {},
     "output_type": "execute_result"
    }
   ],
   "source": [
    "# add a column called member_avg_steps to store average steps for each member for entire challenge\n",
    "# sort individuals by average steps in descending order; display top 3\n",
    "# axis=1 means rowwise, while axis=0 means column-wise\n",
    "\n",
    "df['member_avg_steps']= df.loc[:, '2018-04-02':'2018-04-29'].mean(axis=1).round(0)\n",
    "df.sort_values('member_avg_steps', ascending=False).head(3)"
   ]
  },
  {
   "cell_type": "code",
   "execution_count": 27,
   "metadata": {},
   "outputs": [
    {
     "data": {
      "text/plain": [
       "id2\n",
       "0     39812.0\n",
       "1     29581.0\n",
       "2     42590.0\n",
       "3     25565.0\n",
       "4     25371.0\n",
       "5     16870.0\n",
       "6      8031.0\n",
       "7     30719.0\n",
       "8     27244.0\n",
       "9     12448.0\n",
       "10    19242.0\n",
       "11    29268.0\n",
       "12    13346.0\n",
       "13    18540.0\n",
       "14    18027.0\n",
       "15    17194.0\n",
       "16    21664.0\n",
       "17    17292.0\n",
       "18    14123.0\n",
       "19    17994.0\n",
       "20    28652.0\n",
       "21    22412.0\n",
       "22    22600.0\n",
       "23    20402.0\n",
       "24    31193.0\n",
       "25    13256.0\n",
       "26    32035.0\n",
       "27    17054.0\n",
       "28    16232.0\n",
       "29    17249.0\n",
       "       ...   \n",
       "40    16263.0\n",
       "41    10517.0\n",
       "42    41022.0\n",
       "43    18707.0\n",
       "44    14944.0\n",
       "45    27636.0\n",
       "46    20055.0\n",
       "47     8805.0\n",
       "48    11921.0\n",
       "49    21638.0\n",
       "50    14046.0\n",
       "51    20150.0\n",
       "52    16480.0\n",
       "53    24020.0\n",
       "54    17796.0\n",
       "55    21197.0\n",
       "56    16540.0\n",
       "57    18438.0\n",
       "58    15907.0\n",
       "59    24577.0\n",
       "60    24000.0\n",
       "61    24754.0\n",
       "62    18993.0\n",
       "63    22371.0\n",
       "64    16140.0\n",
       "65    23290.0\n",
       "66    18566.0\n",
       "67    14736.0\n",
       "68    15585.0\n",
       "69     6633.0\n",
       "dtype: float64"
      ]
     },
     "execution_count": 27,
     "metadata": {},
     "output_type": "execute_result"
    }
   ],
   "source": [
    "# dislay highest step count for each individual\n",
    "\n",
    "df.loc[:, '2018-04-02':'2018-04-29'].max(axis=1)"
   ]
  },
  {
   "cell_type": "code",
   "execution_count": null,
   "metadata": {},
   "outputs": [],
   "source": [
    "# sum total daily steps for each team into a new data frame called team_df\n",
    "\n",
    "team_df = df.groupby('team_no').sum()\n",
    "team_df"
   ]
  },
  {
   "cell_type": "code",
   "execution_count": null,
   "metadata": {},
   "outputs": [],
   "source": [
    "# remove a column e.g. team captain\n",
    "\n",
    "del team_df['team_captain']\n",
    "team_df"
   ]
  },
  {
   "cell_type": "code",
   "execution_count": null,
   "metadata": {},
   "outputs": [],
   "source": [
    "# add a column called team_tot_steps to store total steps for each team for entire challenge\n",
    "# sort teams by total steps in descending order; display top 3\n",
    "\n",
    "team_df['team_tot_steps']= team_df.loc[:, '2018-04-02':'2018-04-29'].sum(axis=1)\n",
    "team_df.sort_values('team_tot_steps', ascending=False).head(3)"
   ]
  },
  {
   "cell_type": "code",
   "execution_count": null,
   "metadata": {},
   "outputs": [],
   "source": [
    "# sort and display in descending order, teams who have exceeded 1 million steps\n",
    "\n",
    "team_df[team_df['team_tot_steps']>1000000].sort_values('team_tot_steps', ascending=False)"
   ]
  },
  {
   "cell_type": "code",
   "execution_count": null,
   "metadata": {},
   "outputs": [],
   "source": []
  }
 ],
 "metadata": {
  "kernelspec": {
   "display_name": "Python 3",
   "language": "python",
   "name": "python3"
  },
  "language_info": {
   "codemirror_mode": {
    "name": "ipython",
    "version": 3
   },
   "file_extension": ".py",
   "mimetype": "text/x-python",
   "name": "python",
   "nbconvert_exporter": "python",
   "pygments_lexer": "ipython3",
   "version": "3.5.4"
  }
 },
 "nbformat": 4,
 "nbformat_minor": 2
}
