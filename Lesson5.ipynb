{
 "cells": [
  {
   "cell_type": "markdown",
   "metadata": {},
   "source": [
    "## Lesson 5 Overview\n",
    "\n",
    "1. List comprehensions\n",
    "2. Sorting (ascending and descending order)\n",
    "3. Slicing\n",
    "4. Merging"
   ]
  },
  {
   "cell_type": "markdown",
   "metadata": {},
   "source": [
    "## Let's load today's lesson!\n",
    "\n",
    "### Open Azure Notebooks library \n",
    "\n",
    "Go to https://notebooks.azure.com -> Sign in if needed -> Select **python-codeacademy-sg**\n",
    "\n",
    "### Update lesson file to latest version\n",
    "\n",
    "Select **New** -> **From URL** -> input https://raw.githubusercontent.com/viettrung9012/python-codeacademy-sg/master/Lesson5.ipynb (URL is available in **Lesson5.ipynb**) -> Click outside input then select **Upload** (overwrite if needed)\n",
    "\n",
    "### Open Jupyter lab\n",
    "\n",
    "From your browser's bookmark or **Run** -> Change browser URL path from **/nb/tree** to **/nb/lab**\n",
    "\n",
    "Select **Lesson5.ipynb**"
   ]
  },
  {
   "cell_type": "markdown",
   "metadata": {},
   "source": [
    "In lesson 2, you've learnt about List and how to create and manipulate them.\n",
    "In lesson 3, you've learnt about Loops and how to create and update Lists using Loops.\n",
    "In lesson 5, you will learn advanced List creation and manipulation methods in order to complete more complex tasks, and List comprehensions is one of them."
   ]
  },
  {
   "cell_type": "markdown",
   "metadata": {},
   "source": [
    "# List comprehensions\n",
    "\n",
    "`Estimation: 10 minutes`\n",
    "\n",
    "List comprehensions provide a concise way to create lists.\n",
    "\n",
    "It consists of brackets containing an expression followed by a `for` clause, then zero or more `for` or `if` clauses. The expressions can be anything, meaning you can put in all kinds of objects in lists.\n",
    "\n",
    "The result will be a new list resulting from evaluating the expressions in the context of the `for` and `if` clauses which follow it.\n",
    "\n",
    "The list comprehension always returns a result list.\n",
    "\n",
    "### Syntax\n",
    "\n",
    "The list comprehension starts with a '[' and end with ']' and this will ensure the end result is going to be a list.\n",
    "\n",
    "**newList = [expression(x) for x in oldList if filter(x)]**\n",
    "\n",
    "**newList** is the new list result.\n",
    "\n",
    "**expression(x)** is the expression based on the variable used for each element in the old list.\n",
    "\n",
    "**for x in oldList** is a `for` loop.\n",
    "\n",
    "**if filter(x)** is a if-statement to filter unwanted results."
   ]
  },
  {
   "cell_type": "markdown",
   "metadata": {},
   "source": [
    "Example 1: Create a list of squares for even numbers from 0 to 9"
   ]
  },
  {
   "cell_type": "code",
   "execution_count": null,
   "metadata": {},
   "outputs": [],
   "source": [
    "# Normal loop implementation\n",
    "evenSquares = []\n",
    "for x in range(10):\n",
    "    if x % 2 == 0:\n",
    "        evenSquares.append(x**2)\n",
    "        \n",
    "print(evenSquares)"
   ]
  },
  {
   "cell_type": "code",
   "execution_count": null,
   "metadata": {},
   "outputs": [],
   "source": [
    "# List comprehensions implementation\n",
    "[x**2 for x in range(10) if x % 2 == 0]"
   ]
  },
  {
   "cell_type": "markdown",
   "metadata": {},
   "source": [
    "Example 2: Create a tuple that have all different numbers combination between 2 array range from 0 to 4."
   ]
  },
  {
   "cell_type": "code",
   "execution_count": null,
   "metadata": {},
   "outputs": [],
   "source": [
    "# Normal loop implementation\n",
    "combinations = []\n",
    "for x in range(5):\n",
    "    for y in range(5):\n",
    "        if (x != y):\n",
    "            combinations.append((x, y))\n",
    "            \n",
    "print(combinations)"
   ]
  },
  {
   "cell_type": "code",
   "execution_count": null,
   "metadata": {},
   "outputs": [],
   "source": [
    "# List comprehensions implementation\n",
    "combinations = [(x, y) for x in range(5) for y in range(5) if x != y]\n",
    "print(combinations)"
   ]
  },
  {
   "cell_type": "markdown",
   "metadata": {},
   "source": [
    "Example 3: Given 2-dimentional list (like a table), flatten it (to a normal list)"
   ]
  },
  {
   "cell_type": "code",
   "execution_count": null,
   "metadata": {},
   "outputs": [],
   "source": [
    "table = [[1, 2, 3],\n",
    "         [4, 5, 6],\n",
    "         [7, 8, 9]]\n",
    "\n",
    "# Normal loop implementation\n",
    "flatten = []\n",
    "for row in table:\n",
    "    for num in row:\n",
    "        flatten.append(num)\n",
    "\n",
    "print(flatten)"
   ]
  },
  {
   "cell_type": "code",
   "execution_count": null,
   "metadata": {},
   "outputs": [],
   "source": [
    "# List comprehensions implementation\n",
    "[num for row in table for num in row]"
   ]
  },
  {
   "cell_type": "markdown",
   "metadata": {},
   "source": [
    "Example 4: Given 2-dimentional list (like a table), transpose rows and columns using Nested List Comprehensions"
   ]
  },
  {
   "cell_type": "code",
   "execution_count": null,
   "metadata": {},
   "outputs": [],
   "source": [
    "# Normal loop implementation\n",
    "transpose = []\n",
    "for num in range(len(table[0])):\n",
    "    fields = []\n",
    "    for row in table:\n",
    "        fields.append(row[num])\n",
    "    transpose.append(fields)\n",
    "\n",
    "print(transpose)"
   ]
  },
  {
   "cell_type": "code",
   "execution_count": null,
   "metadata": {},
   "outputs": [],
   "source": [
    "# List comprehensions implementation\n",
    "[[row[num] for row in table] for num in range(len(table[0]))]"
   ]
  },
  {
   "cell_type": "markdown",
   "metadata": {},
   "source": [
    "Exercise: Create a tuple that have number from 2 to 5 (x) with number divisible by x between 1 and 25. `(5 minutes)`"
   ]
  },
  {
   "cell_type": "code",
   "execution_count": null,
   "metadata": {},
   "outputs": [],
   "source": [
    "# Normal loop implementation\n",
    "\n",
    "\n",
    "# List comprehensions implementation\n",
    "\n",
    "\n",
    "# Expected result:\n",
    "# [(2, 2), (2, 4), (2, 6), (2, 8), (2, 10), (2, 12), (2, 14), (2, 16), \n",
    "#  (2, 18), (2, 20), (2, 22), (2, 24), (3, 3), (3, 6), (3, 9), (3, 12), \n",
    "#  (3, 15), (3, 18), (3, 21), (3, 24), (4, 4), (4, 8), (4, 12), (4, 16), \n",
    "#  (4, 20), (4, 24), (5, 5), (5, 10), (5, 15), (5, 20), (5, 25)]"
   ]
  },
  {
   "cell_type": "markdown",
   "metadata": {},
   "source": [
    "# Sorting\n",
    "\n",
    "`Estimation: 5 minutes`\n",
    "\n",
    "### Ascending - from small to big, from low to high, from A to Z, from a to z\n",
    "\n",
    "By default, all sorting are in ascending order.\n",
    "\n",
    "**sorted(list)** will return a new sorted list, leaving the original list unaffected.\n",
    "\n",
    "**list.sort()** will sort the list **in-place**. If the list is immutable, it will return None.\n",
    "\n",
    "### Descending - in reverse of Ascending\n",
    "\n",
    "Both sort() and sorted() accept an additional parameter for reverse in boolean type.\n",
    "\n",
    "**sorted(list, reverse=True)**\n",
    "\n",
    "**list.sort(reverse=True)**"
   ]
  },
  {
   "cell_type": "markdown",
   "metadata": {},
   "source": [
    "Example 1: Given a list of numbers, create a new sorted list in ascending order and in-place descending order."
   ]
  },
  {
   "cell_type": "code",
   "execution_count": null,
   "metadata": {},
   "outputs": [],
   "source": [
    "listOfNum = [56, 34, 65, 12, 88, 54, 99, 78]\n",
    "\n",
    "# new ascending order list named ascending\n",
    "ascending = sorted(listOfNum)\n",
    "\n",
    "# in-place descending order\n",
    "listOfNum.sort(reverse=True)\n",
    "\n",
    "print(\"Ascending: \", ascending)\n",
    "print(\"Descending: \", listOfNum)"
   ]
  },
  {
   "cell_type": "markdown",
   "metadata": {},
   "source": [
    "Example 2: Given a list of alphabets, create a new sorted list in descending order and in-place ascending order."
   ]
  },
  {
   "cell_type": "code",
   "execution_count": null,
   "metadata": {},
   "outputs": [],
   "source": [
    "listOfAlp = ['g', 'w', 's', 'a', 'k', 'e', 'q', 'd']\n",
    "\n",
    "# new descending order list named descending\n",
    "descending = sorted(listOfAlp, reverse=True)\n",
    "\n",
    "# in-place ascending order\n",
    "listOfAlp.sort()\n",
    "\n",
    "print(\"Ascending: \", listOfAlp)\n",
    "print(\"Descending: \", descending)"
   ]
  },
  {
   "cell_type": "markdown",
   "metadata": {},
   "source": [
    "Exercise: Flatten list given and sort by ascending order `(5 minutes)`"
   ]
  },
  {
   "cell_type": "code",
   "execution_count": null,
   "metadata": {},
   "outputs": [],
   "source": [
    "# list given\n",
    "listOfNum = [76, 23, 54, 68]\n",
    "listOfFloat = [54.1, 53.9, 54.0]\n",
    "listOfAlp = ['e', 'x', 'p']\n",
    "listOfCapAlp = ['E', 'D', 'I', 'A']\n",
    "combined = [listOfNum, listOfFloat, listOfAlp, listOfCapAlp]\n",
    "\n",
    "# flatten array\n",
    "\n",
    "\n",
    "# sort by ascending order\n",
    "\n",
    "\n",
    "# Expected result:\n",
    "# ['23', '53.9', '54', '54.0', '54.1', '68', '76', 'A', 'D', 'E', 'I', 'e', 'p', 'x']"
   ]
  },
  {
   "cell_type": "markdown",
   "metadata": {},
   "source": [
    "# Slicing\n",
    "\n",
    "`Estimation: 5 minutes`\n",
    "\n",
    "Slicing is used to extract a part of a List, a Tuple or a String.\n",
    "\n",
    "### Syntax\n",
    "\n",
    "**list[start:end:step]**\n",
    "\n",
    "**start** by default is 0\n",
    "\n",
    "**end** by default is the last list item\n",
    "\n",
    "**step** by default is 1 "
   ]
  },
  {
   "cell_type": "markdown",
   "metadata": {},
   "source": [
    "Example 1: Given a list, slice list with default step."
   ]
  },
  {
   "cell_type": "code",
   "execution_count": null,
   "metadata": {},
   "outputs": [],
   "source": [
    "items = [0, 1, 2, 3, 4, 5, 6, 7, 8, 9, 10]\n",
    "\n",
    "# all items in list\n",
    "print(\"Initial list: \", items)\n",
    "\n",
    "# first and last item in the array/list\n",
    "print(\"First item in list: \", items[0])\n",
    "print(\"Last item in list: \", items[-1])\n",
    "\n",
    "# all item except the last two items\n",
    "print(\"All item except last two items in list: \", items[:-2])\n",
    "\n",
    "# items from 3rd to 5th array/list\n",
    "print(\"3rd to 5th items in list: \", items[2:5])"
   ]
  },
  {
   "cell_type": "markdown",
   "metadata": {},
   "source": [
    "Example 2: Slice list with different step."
   ]
  },
  {
   "cell_type": "code",
   "execution_count": null,
   "metadata": {},
   "outputs": [],
   "source": [
    "# all items in the array/list reversed\n",
    "print(\"All reversed: \", items[::-1])\n",
    "\n",
    "# first 3 items reversed\n",
    "print(\"First 3 items reversed: \", items[2::-1])\n",
    "\n",
    "# last 3 items reversed\n",
    "print(\"Last 3 items reversed: \", items[:-4:-1])\n",
    "\n",
    "# all items in even position\n",
    "print(\"All items in even position: \", items[::2])\n"
   ]
  },
  {
   "cell_type": "markdown",
   "metadata": {},
   "source": [
    "Exercise: Clean list and print \"Expedia\" `(5 minutes)`"
   ]
  },
  {
   "cell_type": "code",
   "execution_count": null,
   "metadata": {},
   "outputs": [],
   "source": [
    "listOfExpedia = ['(', '$', 'a', 'i', 'd', 'e', 'p', 'x', 'E', ')']\n",
    "\n",
    "# hint:\n",
    "# list convert to string, use: ''.join(list)\n",
    "\n"
   ]
  },
  {
   "cell_type": "markdown",
   "metadata": {},
   "source": [
    "# Merging\n",
    "\n",
    "`Estimation: 1 minutes`\n",
    "\n",
    "Merging newList into existingList.\n",
    "\n",
    "### Syntax\n",
    "\n",
    "**existingList.extend(newList)**"
   ]
  },
  {
   "cell_type": "markdown",
   "metadata": {},
   "source": [
    "Example 1: Given 2 list, merge them."
   ]
  },
  {
   "cell_type": "code",
   "execution_count": null,
   "metadata": {},
   "outputs": [],
   "source": [
    "existingFruits = [\"Apple\", \"Banana\", \"Mango\"]\n",
    "newFruits = [\"Dragon Fruits\", \"Kiwi\"]\n",
    "\n",
    "existingFruits.extend(newFruits)\n",
    "print(\"Merge new fruits into existing list: \", existingFruits)"
   ]
  },
  {
   "cell_type": "markdown",
   "metadata": {},
   "source": [
    "Let's work with Biggest Losser data! `(15 minutes)`"
   ]
  },
  {
   "cell_type": "code",
   "execution_count": null,
   "metadata": {},
   "outputs": [],
   "source": [
    "# Prerequisite: these functions are from previous lesson, run them.\n",
    "def total_steps_by_row(row, header):\n",
    "    total_steps = 0\n",
    "    for header_index, fieldNames in enumerate(header):\n",
    "        steps_in_column = row[header[header_index]]\n",
    "        if header_index > 3 and steps_in_column != '':\n",
    "            total_steps = total_steps + int(steps_in_column)\n",
    "    return total_steps\n",
    "\n",
    "\n",
    "def get_team_names(steps_data):\n",
    "    team_names = []\n",
    "    for row in steps_data:\n",
    "        if row['team_name'] not in team_names:\n",
    "            team_names.append(row['team_name'])\n",
    "    return team_names\n",
    "\n",
    "\n",
    "def get_total_steps_by_team_name_from_data(steps_data, header, team_name):\n",
    "    team_total_steps = 0\n",
    "    for row in steps_data:\n",
    "        if row['team_name'] == team_name:\n",
    "            team_total_steps = team_total_steps + total_steps_by_row(row, header)\n",
    "    return team_total_steps"
   ]
  },
  {
   "cell_type": "code",
   "execution_count": null,
   "metadata": {},
   "outputs": [],
   "source": [
    "# Top 3 steps count, top teams\n",
    "def total_steps_each_team(header, steps_data, team_names):\n",
    "    return [[get_total_steps_by_team_name_from_data(steps_data, header, name), name] for name in team_names]\n",
    "\n",
    "\n",
    "import csv\n",
    "\n",
    "\n",
    "with open('Biggest Loser 2018.csv') as csvfile:\n",
    "    readCSV = csv.DictReader(csvfile)\n",
    "    header = readCSV.fieldnames\n",
    "    steps_data = list(readCSV)\n",
    "    team_names = get_team_names(steps_data)\n",
    "    \n",
    "    # retrieve total steps for each team\n",
    "    total_steps_by_team = total_steps_each_team(header, steps_data, team_names)\n",
    "    print(\"Total steps for all teams: \", total_steps_by_team)\n",
    "    \n",
    "    # sort total steps by team from highest to lowest\n",
    "    sorted_teams_by_total_steps = sorted(total_steps_by_team, reverse=True)\n",
    "    print(\"Sorted teams from highest to lowest number of steps: \", sorted_teams_by_total_steps)\n",
    "    \n",
    "    # slice list to top 3 teams\n",
    "    top_3_teams = sorted_teams_by_total_steps[:3]\n",
    "    print(\"Total steps for top 3 teams: \", top_3_teams)\n",
    "\n",
    "    for key, row in enumerate(top_3_teams):\n",
    "        print(\"Number \" + str(key+1) + \": \" + row[1] + \" (\" + str(row[0]) + \")\")"
   ]
  },
  {
   "cell_type": "code",
   "execution_count": null,
   "metadata": {},
   "outputs": [],
   "source": [
    "# Identify first team to reach 1mil steps? and on which n-th day?\n",
    "# Which day to reach 1mil steps per team?\n",
    "\n",
    "\n",
    "# Get total daily steps by team\n",
    "def get_daily_steps_by_team_name(steps_data, column, team_name):\n",
    "    team_total_steps = 0\n",
    "    for row in steps_data:\n",
    "        if row['team_name'] == team_name:\n",
    "            if len(row[column]) > 0:\n",
    "                team_total_steps = team_total_steps + int(row[column])\n",
    "    return team_total_steps\n",
    "\n",
    "\n",
    "# total team steps for all days\n",
    "# output example:\n",
    "#   ['TBD', [['2018-04-02', 75546], ['2018-04-03', 71297], ['2018-04-04', 86317], ...,\n",
    "#   ['Sole Striders', [['2018-04-02', 38337], ['2018-04-03', 47547], ['2018-04-04', 38161], ...,\n",
    "def total_team_steps_for_all_days(steps_data, header, team_names):\n",
    "    total_daily_steps = []\n",
    "    # loop through team_names to get total faily steps for each team\n",
    "    for team_name in team_names:\n",
    "        total_steps_per_day = []\n",
    "        # this is to skip first 4 columns. Steps number only starts on 5th column onwards.\n",
    "        date_columns = header[4:]\n",
    "        for column in date_columns:\n",
    "            # store date and team daily steps in total_steps_per_day\n",
    "            total_steps_per_day.append([column, get_daily_steps_by_team_name(steps_data, column, team_name)])\n",
    "        # store team name and team daily steps with date in total_daily_steps\n",
    "        total_daily_steps.append([team_name, total_steps_per_day])\n",
    "    return total_daily_steps\n",
    "\n",
    "\n",
    "# consolidate teams that have reached total of 1 million steps\n",
    "# output example:\n",
    "#   [('2018-04-13', 'TBD', 1028885), ('2018-04-23', 'FuFu', 1002373), \n",
    "#    ('2018-04-19', 'Tears for Beers', 1011356), ('2018-04-16', 'Stop when you drop!!', 1034537), \n",
    "#    ('2018-04-23', 'Cereal Killers', 1019483), ('2018-04-24', 'Here come the hotsteppers', 1022037)...]\n",
    "def all_team_date_to_reach_1mil_steps(total_team_steps_for_all_days):\n",
    "    total_daily_steps_incremental = []\n",
    "    # loop through all teams\n",
    "    for team in total_team_steps_for_all_days:\n",
    "        team_name = team[0]\n",
    "        team_daily_steps = team[1]\n",
    "        total_team_steps = 0\n",
    "        # loop through daily steps\n",
    "        for daily_steps in team_daily_steps:\n",
    "            date = daily_steps[0]\n",
    "            total_team_steps = total_team_steps + daily_steps[1]\n",
    "            # check when total team steps achieved more than 1 million steps\n",
    "            if (total_team_steps >= 1000000):\n",
    "                # store date, team name and total steps into list\n",
    "                total_daily_steps_incremental.append((date, team_name, total_team_steps))\n",
    "                # break is to go out or stop the loop to process subsequent days\n",
    "                break\n",
    "    return total_daily_steps_incremental\n",
    "\n",
    "\n",
    "def first_team_reached_1mil_steps(total_team_steps_for_all_days):\n",
    "    # retrieve teams that had achieved 1 million steps\n",
    "    date_of_teams_reached_1mil_steps = all_team_date_to_reach_1mil_steps(total_team_steps_for_all_days)\n",
    "    # sort list according to date earliest to latest\n",
    "    first_team_reached_1mil_steps = sorted(date_of_teams_reached_1mil_steps)\n",
    "    # return the first results in the sorted list\n",
    "    return first_team_reached_1mil_steps[0]\n",
    "\n",
    "\n",
    "with open('Biggest Loser 2018.csv') as csvfile:\n",
    "    readCSV = csv.DictReader(csvfile)\n",
    "    header = readCSV.fieldnames\n",
    "    steps_data = list(readCSV)\n",
    "    team_names = get_team_names(steps_data)\n",
    "    total_team_steps_for_all_days = total_team_steps_for_all_days(steps_data, header, team_names)\n",
    "    first_team_reached_1mil_steps = first_team_reached_1mil_steps(total_team_steps_for_all_days)\n",
    "    print(\"First team to reach 1 million steps: \" + first_team_reached_1mil_steps[1] + \" on \" + first_team_reached_1mil_steps[0] + \" with \" + str(first_team_reached_1mil_steps[2]) + \" steps!\")\n",
    "\n",
    "    print(\"Date of each team reached 1 million steps:\")\n",
    "    for team in all_team_date_to_reach_1mil_steps(total_team_steps_for_all_days):\n",
    "        print(\"Team: \" + team[1] + \"(\" + str(team[2]) + \") on \" + team[0])\n"
   ]
  },
  {
   "cell_type": "markdown",
   "metadata": {},
   "source": [
    "## Homework (optional)"
   ]
  },
  {
   "cell_type": "code",
   "execution_count": null,
   "metadata": {},
   "outputs": [],
   "source": [
    "# Most active day (date of day with most steps in total)\n",
    "\n",
    "# hint: \n",
    "# 1) create a function to calculate total steps a day\n",
    "# 2) loop through each day and get the highest number of steps\n",
    "\n"
   ]
  }
 ],
 "metadata": {
  "kernelspec": {
   "display_name": "Python 3",
   "language": "python",
   "name": "python3"
  },
  "language_info": {
   "codemirror_mode": {
    "name": "ipython",
    "version": 3
   },
   "file_extension": ".py",
   "mimetype": "text/x-python",
   "name": "python",
   "nbconvert_exporter": "python",
   "pygments_lexer": "ipython3",
   "version": "3.6.3"
  }
 },
 "nbformat": 4,
 "nbformat_minor": 2
}
