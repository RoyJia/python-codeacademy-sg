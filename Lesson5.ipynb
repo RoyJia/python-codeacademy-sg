{
 "cells": [
  {
   "cell_type": "markdown",
   "metadata": {},
   "source": [
    "## Lesson 5 Overview\n",
    "\n",
    "1. List comprehensions\n",
    "2. Sorting (ascending and descending order)\n",
    "3. Slicing\n",
    "4. Merging"
   ]
  },
  {
   "cell_type": "markdown",
   "metadata": {},
   "source": [
    "## Let's load today's lesson!\n",
    "\n",
    "### Open Azure Notebooks library \n",
    "\n",
    "Go to https://notebooks.azure.com -> Sign in if needed -> Select **python-codeacademy-sg**\n",
    "\n",
    "### Update lesson file to latest version\n",
    "\n",
    "Select **New** -> **From URL** -> input https://raw.githubusercontent.com/viettrung9012/python-codeacademy-sg/master/Lesson5.ipynb (URL is available in **Lesson5.ipynb**) -> Click outside input then select **Upload** (overwrite if needed)\n",
    "\n",
    "### Open Jupyter lab\n",
    "\n",
    "From your browser's bookmark or **Run** -> Change browser URL path from **/nb/tree** to **/nb/lab**\n",
    "\n",
    "Select **Lesson5.ipynb**"
   ]
  },
  {
   "cell_type": "markdown",
   "metadata": {},
   "source": [
    "# List comprehensions\n",
    "\n",
    "List comprehensions provide a concise way to create lists.\n",
    "\n",
    "It consists of brackets containing an expression followed by a `for` clause, then zero or more `for` or `if` clauses. The expressions can be anything, meaning you can put in all kinds of objects in lists.\n",
    "\n",
    "The result will be a new list resulting from evaluating the expressions in the context of the `for` and `if` clauses which follow it.\n",
    "\n",
    "The list comprehension always returns a result list.\n",
    "\n",
    "### Syntax\n",
    "\n",
    "The list comprehension starts with a '[' and end with ']' and this will ensure the end result is going to be a list.\n",
    "\n",
    "**newList = [expression(x) for x in oldList if filter(x)]**\n",
    "\n",
    "**newList** is the new list result.\n",
    "\n",
    "**expression(x)** is the expression based on the variable used for each element in the old list.\n",
    "\n",
    "**for x in oldList** is a `for` loop.\n",
    "\n",
    "**if filter(x)** is a if-statement to filter unwanted results."
   ]
  },
  {
   "cell_type": "markdown",
   "metadata": {},
   "source": [
    "Example 1: Create a list of squares for even numbers from 0 to 9"
   ]
  },
  {
   "cell_type": "code",
   "execution_count": null,
   "metadata": {},
   "outputs": [],
   "source": [
    "# Normal loop implementation\n",
    "evenSquare = []\n",
    "for x in range(10):\n",
    "    if x % 2 == 0:\n",
    "        evenSquare.append(x**2)\n",
    "        \n",
    "print(evenSquare)"
   ]
  },
  {
   "cell_type": "code",
   "execution_count": null,
   "metadata": {},
   "outputs": [],
   "source": [
    "# List comprehensions implementation\n",
    "evenSquare = [x**2 for x in range(10) if x % 2 == 0]\n",
    "print(evenSquare)"
   ]
  },
  {
   "cell_type": "markdown",
   "metadata": {},
   "source": [
    "Example 2: Create a tuple that have all different numbers combination between 2 array range from 0 to 4."
   ]
  },
  {
   "cell_type": "code",
   "execution_count": null,
   "metadata": {},
   "outputs": [],
   "source": [
    "# Normal loop implementation\n",
    "combination = []\n",
    "for x in range(5):\n",
    "    for y in range(5):\n",
    "        if (x != y):\n",
    "            combination.append((x, y))\n",
    "            \n",
    "print(combination)"
   ]
  },
  {
   "cell_type": "code",
   "execution_count": null,
   "metadata": {},
   "outputs": [],
   "source": [
    "# List comprehensions implementation\n",
    "combination = [(x, y) for x in range(5) for y in range(5) if x != y]\n",
    "print(combination)"
   ]
  },
  {
   "cell_type": "markdown",
   "metadata": {},
   "source": [
    "Example 3: Given 2-dimentional list (like a table), flatten it (to a normal list)"
   ]
  },
  {
   "cell_type": "code",
   "execution_count": null,
   "metadata": {},
   "outputs": [],
   "source": [
    "table = [[1, 2, 3],\n",
    "         [4, 5, 6],\n",
    "         [7, 8, 9]]\n",
    "flatten = [num for row in table for num in row]\n",
    "print(flatten)"
   ]
  },
  {
   "cell_type": "markdown",
   "metadata": {},
   "source": [
    "Example 4: Given 2-dimentional list (like a table), transpose rows and columns using Nested List Comprehensions"
   ]
  },
  {
   "cell_type": "code",
   "execution_count": null,
   "metadata": {},
   "outputs": [],
   "source": [
    "transpose = [[row[num] for row in table] for num in range(len(table[0]))]\n",
    "for display in transpose:\n",
    "    print(display)"
   ]
  },
  {
   "cell_type": "markdown",
   "metadata": {},
   "source": [
    "# Sorting\n",
    "\n",
    "### Ascending - from small to big, from low to high, from a to z\n",
    "\n",
    "By default, all sorting are in ascending order.\n",
    "\n",
    "**sorted(list)** will return a new sorted list, leaving the original list unaffected.\n",
    "\n",
    "**list.sort()** will sorts the list **in-place**. In case list is muted, it will return None.\n",
    "\n",
    "### Descending - in reverse of Ascending\n",
    "\n",
    "Both sort() and sorted() accept additional parameter as reverse in boolean type.\n",
    "\n",
    "**sorted(list, reverse=True)**\n",
    "\n",
    "**list.sort(reverse=True)**"
   ]
  },
  {
   "cell_type": "markdown",
   "metadata": {},
   "source": [
    "Example 1: Given a list of numbers, create a new sorted list in ascending order and in-place descending order."
   ]
  },
  {
   "cell_type": "code",
   "execution_count": null,
   "metadata": {},
   "outputs": [],
   "source": [
    "listOfNum = [56, 34, 65, 12, 88, 54, 99, 78]\n",
    "\n",
    "# new ascending order list named ascending\n",
    "ascending = sorted(listOfNum)\n",
    "\n",
    "# in-place descending order\n",
    "listOfNum.sort(reverse=True)\n",
    "\n",
    "print(\"Ascending: \", ascending)\n",
    "print(\"Descending: \", listOfNum)"
   ]
  },
  {
   "cell_type": "markdown",
   "metadata": {},
   "source": [
    "Example 2: Given a list of alphabets, create a new sorted list in descending order and in-place ascending order."
   ]
  },
  {
   "cell_type": "code",
   "execution_count": null,
   "metadata": {},
   "outputs": [],
   "source": [
    "listOfAlp = ['g', 'w', 's', 'a', 'k', 'e', 'q', 'd']\n",
    "\n",
    "# new descending order list named descending\n",
    "descending = sorted(listOfAlp, reverse=True)\n",
    "\n",
    "# in-place ascending order\n",
    "listOfAlp.sort()\n",
    "\n",
    "print(\"Ascending: \", listOfAlp)\n",
    "print(\"Descending: \", descending)"
   ]
  },
  {
   "cell_type": "markdown",
   "metadata": {},
   "source": [
    "# Slicing\n",
    "\n",
    "Slicing used to extract part of a string or list.\n",
    "\n",
    "### Syntax\n",
    "\n",
    "**list[start:end:step]**\n",
    "\n",
    "**start** by default is 0\n",
    "\n",
    "**end** by default is the last list item\n",
    "\n",
    "**step** by default is 1 "
   ]
  },
  {
   "cell_type": "markdown",
   "metadata": {},
   "source": [
    "Example 1: Given a list, slice list with default step."
   ]
  },
  {
   "cell_type": "code",
   "execution_count": null,
   "metadata": {},
   "outputs": [],
   "source": [
    "items = [0, 1, 2, 3, 4, 5, 6, 7, 8, 9, 10]\n",
    "\n",
    "# all items in list\n",
    "print(\"Initial list: \", items)\n",
    "\n",
    "# first and last item in the array/list\n",
    "print(\"First item in list: \", items[0])\n",
    "print(\"Last item in list: \", items[-1])\n",
    "\n",
    "# all item except the last two items\n",
    "print(\"All item except last two items in list: \", items[:-2])\n",
    "\n",
    "# items from 3rd to 5th array/list\n",
    "print(\"3rd to 5th items in list: \", items[2:5])"
   ]
  },
  {
   "cell_type": "markdown",
   "metadata": {},
   "source": [
    "Example 2: Slice list with different step."
   ]
  },
  {
   "cell_type": "code",
   "execution_count": null,
   "metadata": {},
   "outputs": [],
   "source": [
    "# all items in the array/list reversed\n",
    "print(\"All reversed: \", items[::-1])\n",
    "\n",
    "# first 3 items reversed\n",
    "print(\"First 3 items reversed: \", items[2::-1])\n",
    "\n",
    "# last 3 items reversed\n",
    "print(\"Last 3 items reversed: \", items[:-4:-1])\n",
    "\n",
    "# all items in even position\n",
    "print(\"All items in even position: \", items[::2])\n"
   ]
  },
  {
   "cell_type": "markdown",
   "metadata": {},
   "source": [
    "# Merging\n",
    "\n",
    "Merging newList into existingList.\n",
    "\n",
    "### Syntax\n",
    "\n",
    "**existingList.extend(newList)**"
   ]
  },
  {
   "cell_type": "markdown",
   "metadata": {},
   "source": [
    "Example 1: Given 2 list, merge them."
   ]
  },
  {
   "cell_type": "code",
   "execution_count": null,
   "metadata": {},
   "outputs": [],
   "source": [
    "existingFruits = [\"Apple\", \"Banana\", \"Mango\"]\n",
    "newFruits = [\"Dragon Fruits\", \"Kiwi\"]\n",
    "\n",
    "existingFruits.extend(newFruits)\n",
    "print(\"Merge new fruits into existing list: \", existingFruits)"
   ]
  },
  {
   "cell_type": "markdown",
   "metadata": {},
   "source": [
    "Let's get hand dirty!"
   ]
  },
  {
   "cell_type": "code",
   "execution_count": null,
   "metadata": {},
   "outputs": [],
   "source": [
    "# Top 3 steps count, top teams"
   ]
  },
  {
   "cell_type": "code",
   "execution_count": null,
   "metadata": {},
   "outputs": [],
   "source": [
    "# Identify first team to reach 1mil steps\n",
    "\n",
    "\n",
    "# on which n-th day"
   ]
  },
  {
   "cell_type": "code",
   "execution_count": null,
   "metadata": {},
   "outputs": [],
   "source": [
    "# Which day to reach 1mil steps per team"
   ]
  },
  {
   "cell_type": "code",
   "execution_count": null,
   "metadata": {},
   "outputs": [],
   "source": [
    "# Most active day in a week\n"
   ]
  },
  {
   "cell_type": "code",
   "execution_count": null,
   "metadata": {},
   "outputs": [],
   "source": [
    "# insert a new team member"
   ]
  },
  {
   "cell_type": "code",
   "execution_count": null,
   "metadata": {},
   "outputs": [],
   "source": [
    "# merge 2 teams"
   ]
  }
 ],
 "metadata": {
  "kernelspec": {
   "display_name": "Python 3",
   "language": "python",
   "name": "python3"
  },
  "language_info": {
   "codemirror_mode": {
    "name": "ipython",
    "version": 3
   },
   "file_extension": ".py",
   "mimetype": "text/x-python",
   "name": "python",
   "nbconvert_exporter": "python",
   "pygments_lexer": "ipython3",
   "version": "3.6.3"
  }
 },
 "nbformat": 4,
 "nbformat_minor": 2
}
