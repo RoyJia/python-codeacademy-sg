{
 "cells": [
  {
   "cell_type": "markdown",
   "metadata": {},
   "source": [
    "## Lesson 2 Overview\n",
    "\n",
    "Now that you know how to run basic Python commands, let's learn about: \n",
    "* Variables and Types\n",
    "* How to use control statements\n",
    "* How to read user inputs"
   ]
  },
  {
   "cell_type": "markdown",
   "metadata": {},
   "source": [
    "## Let's load today's lesson!\n",
    "\n",
    "### Open Azure Notebooks library \n",
    "\n",
    "Go to https://notebooks.azure.com -> Sign in if needed -> Select **python-codeacademy-sg**\n",
    "\n",
    "### Update lesson file to latest version\n",
    "\n",
    "Select **New** -> **From URL** -> input https://raw.githubusercontent.com/viettrung9012/python-codeacademy-sg/master/Lesson2.ipynb (URL is available in **Lesson2.ipynb**) -> Click outside input then select **Upload** (overwrite if needed)\n",
    "\n",
    "### Open Jupyter lab\n",
    "\n",
    "Click on **Lesson2.ipynb**\n"
   ]
  },
  {
   "cell_type": "markdown",
   "metadata": {},
   "source": [
    "## Variables\n",
    "\n",
    "### What is a variable?\n",
    "\n",
    "Variables are used to store information to be referenced and manipulated in a computer program. In simple words, they are containers that hold information.\n",
    "\n",
    "Their sole purpose is to label and store data in memory. This data can then be used throughout your program.\n",
    "\n",
    "### Why are they important?\n",
    "\n",
    "They provide a way of labeling data with a descriptive name, so our programs can be understood more clearly by the reader and ourselves.\n",
    "\n",
    "Also, by storing data in a variable, you can access this data anywhere in your program without duplicating it. Therefore, it's easier to read and manipulate the data throughout your program\n",
    "\n",
    "### How to assign a value to a variable\n",
    "\n",
    "```python\n",
    "myVar = 42\n",
    "```\n",
    "\n",
    "That's it! Easy right?\n",
    "\n",
    "### Let's try!\n",
    "\n",
    "You can run the code cell below to print the result."
   ]
  },
  {
   "cell_type": "code",
   "execution_count": null,
   "metadata": {},
   "outputs": [],
   "source": [
    "numberStudents = 44\n",
    "numberRooms = 4\n",
    "\n",
    "# Calculate an even number of students per classroom\n",
    "numberOfStudentsPerRoom = numberStudents / numberRooms\n",
    "\n",
    "print(numberOfStudentsPerRoom)"
   ]
  },
  {
   "cell_type": "markdown",
   "metadata": {},
   "source": [
    "Your turn!\n",
    "\n",
    "Can you replace the ??? below and solve the following code?"
   ]
  },
  {
   "cell_type": "code",
   "execution_count": null,
   "metadata": {},
   "outputs": [],
   "source": [
    "pi = 3.14\n",
    "radius = 12\n",
    "\n",
    "# Can you calculate the perimeter of a circle using the two above variables ?\n",
    "# (Gentle reminder: P=2πr)\n",
    "perimeter = ???\n",
    "\n",
    "print(perimeter)"
   ]
  },
  {
   "cell_type": "markdown",
   "metadata": {},
   "source": [
    "After modifying the code above and running it, the output should be **75.4**\n",
    "\n",
    "If you got it right, you can continue to the next section, *Types*.\n",
    "\n",
    "## Types\n",
    "\n",
    "Not all data are equal!\n",
    "\n",
    "In real life, you can't manipulate numbers the same way you manipulate words. You don't use the same rules or syntaxe when you solve an equation or when you write a sentence.\n",
    "\n",
    "That's exactly the same with programming languages!\n",
    "\n",
    "That's why Python uses **Types** to differentiate variables, so developpers can manipulate different types of data.\n",
    "\n",
    "Let's see the different **Types** existing in Python.\n",
    "\n",
    "### Numbers\n",
    "\n",
    "As we have seen in the previous section, Python supports two types of numbers - **integers** and **floating point** numbers.\n",
    "\n",
    "**Integers** can be positive or negative, but don't have decimal values. **Floats** are the data type you use for manipulating decimal numbers."
   ]
  },
  {
   "cell_type": "code",
   "execution_count": null,
   "metadata": {},
   "outputs": [],
   "source": [
    "myNegInt = -3\n",
    "myPosInt = 7\n",
    "myNegFloat = -1.37\n",
    "myPosFloat = 9.99999\n",
    "\n",
    "print(myNegInt)\n",
    "print(myPosInt)\n",
    "print(myNegFloat)\n",
    "print(myPosFloat)"
   ]
  },
  {
   "cell_type": "markdown",
   "metadata": {},
   "source": [
    "Easy!\n",
    "\n",
    "#### Operators\n",
    "\n",
    "Integers and Floats support all the following arithmetic operations:"
   ]
  },
  {
   "cell_type": "code",
   "execution_count": null,
   "metadata": {},
   "outputs": [],
   "source": [
    "# Addition\n",
    "print(10+3) # 13\n",
    "\n",
    "# Substraction\n",
    "print(-3-10) # -13\n",
    "\n",
    "# Multiplication\n",
    "print(6*7*2) # 84\n",
    "\n",
    "# Division (the result of a division is always a float)\n",
    "print(10/3) # 3.3333333\n",
    "print(8/2) # 4.0\n",
    "\n",
    "# Modulo\n",
    "# The modulo (%) operator returns the integer remainder of the division. dividend % divisor = remainder.\n",
    "print(10%4) # 2\n",
    "\n",
    "# Power (double star)\n",
    "print(2**3) # 8\n"
   ]
  },
  {
   "cell_type": "code",
   "execution_count": null,
   "metadata": {},
   "outputs": [],
   "source": [
    "# The order of operations follow the same rules as written equations.\n",
    "# You can use parenthesis to group operations\n",
    "# Can you tell what will be the result of the following equations before clicking on Run?\n",
    "print( 3*10*2/5 )\n",
    "print( 10/((8-7)*2) )"
   ]
  },
  {
   "cell_type": "markdown",
   "metadata": {},
   "source": [
    "### Booleans \n",
    "\n",
    "Booleans are specific types that reprensent a statement or a condition which can be **True** or **False**\n"
   ]
  },
  {
   "cell_type": "code",
   "execution_count": null,
   "metadata": {
    "scrolled": true
   },
   "outputs": [],
   "source": [
    "myTrueBoolean = True\n",
    "myFalseBoolean = False\n",
    "\n",
    "print(myTrueBoolean)\n",
    "print(myFalseBoolean)\n",
    "\n",
    "# Dynamically set a boolean value from a condition\n",
    "is2GreaterThan3 = 2 > 3\n",
    "is2LowerThan3 = 2 < 3\n",
    "\n",
    "print(\"is 2 greater than 3 ?\", is2GreaterThan3)\n",
    "print(\"is 2 lower than 3 ?\", is2LowerThan3)\n",
    "\n",
    "# Since a single = sign is used to assign value to a variable\n",
    "# In order to check equality, we use a double == sign\n",
    "# We can also group the condition inside parenthesis for better readability\n",
    "\n",
    "is2Equal3 = (2 == 3)\n",
    "is2Equal2 = (2 == 2)\n",
    "\n",
    "print(\"is 2 equal 3 ?\", is2Equal3)\n",
    "print(\"is 2 equal 2 ?\", is2Equal2)\n",
    "\n",
    "# Inequality:  !=\n",
    "is3DifferentThan100 = (3 != 100)\n",
    "is3DifferentThan3 = (3 != 3)\n",
    "\n",
    "print(\"is 3 different than 100 ?\", is3DifferentThan100)\n",
    "print(\"is 3 different than 3 ?\", is3DifferentThan3)\n",
    "\n",
    "# Greater or Equal / Lower or Equal:  >= / <=\n",
    "is3GreaterEqualTo100 = (3 >= 100)\n",
    "is3LowerEqualTo100 = (3 <= 100)\n",
    "is3GreaterEqualTo3 = (3 >= 3)\n",
    "is3LowerEqualTo3 = (3 <= 3)\n",
    "\n",
    "print(\"is 3 greater or equal to 100 ?\", is3GreaterEqualTo100)\n",
    "print(\"is 3 lower or equal to 100 ?\", is3LowerEqualTo100)\n",
    "print(\"is 3 greater or equal to 3 ?\", is3GreaterEqualTo3)\n",
    "print(\"is 3 lower or equal to 3 ?\", is3LowerEqualTo3)\n",
    "\n",
    "# Inverse a boolean condition\n",
    "print(\"not True is\", not True)\n",
    "print(\"not False is\", not False)\n",
    "print(\"not 2==2 is\", not 2==2)"
   ]
  },
  {
   "cell_type": "markdown",
   "metadata": {},
   "source": [
    "#### Operators\n",
    "\n",
    "OK, it gets a bit tricky here.\n",
    "\n",
    "You can combine multiple conditions to make a full statement **True** or **False**, using two operators: **and** and **or**."
   ]
  },
  {
   "cell_type": "markdown",
   "metadata": {},
   "source": [
    "##### And\n",
    "\n",
    "* All the conditions must be True for the whole statement to be True\n",
    "* If at least one statement is False, then the whole statement is False\n",
    "\n",
    "E.g."
   ]
  },
  {
   "cell_type": "code",
   "execution_count": null,
   "metadata": {},
   "outputs": [],
   "source": [
    "print(\"(True and 2>3) returns\", True and 2>3 ) # False\n",
    "print(\"(True and 2<3 and 2==2 and not False) returns\", True and 2<3 and 2==2 and not False ) # True"
   ]
  },
  {
   "cell_type": "markdown",
   "metadata": {},
   "source": [
    "##### Or\n",
    "\n",
    "* If at least one condition is True, then the whole statement is True\n",
    "* All the condition must be False for the whole statement to be False\n",
    "\n",
    "E.g."
   ]
  },
  {
   "cell_type": "code",
   "execution_count": null,
   "metadata": {},
   "outputs": [],
   "source": [
    "print(\"(False or 2==100 or False or 1==1) returns\", (False) or (2==100) or (False) or (1==1) ) # True\n",
    "print(\"(not True or 2>3 or 2!=2 or False) returns\", (not True) or (2>3) or (2!=2) or (False) ) # False"
   ]
  },
  {
   "cell_type": "markdown",
   "metadata": {},
   "source": [
    "### Strings\n",
    "\n",
    "Strings represent words, sentences, names, everything that you can label.\n",
    "\n",
    "They are declared using double quotes:"
   ]
  },
  {
   "cell_type": "code",
   "execution_count": null,
   "metadata": {},
   "outputs": [],
   "source": [
    "myString = \"Hello!\"\n",
    "allCharactersAllowed = \"Hi, my name is !@£$%^&*() and I'm 46 years old.\"\n",
    "\n",
    "print(myString)\n",
    "print(allCharactersAllowed)\n",
    "\n",
    "# If you want to use double quotes in your sentence, you need to escape it using a anti-slash character \"\\\" :\n",
    "\n",
    "quotesInMyQuotes = \"And he replied: \\\"Luke, I'm your father\\\"\"\n",
    "\n",
    "print(quotesInMyQuotes)"
   ]
  },
  {
   "cell_type": "markdown",
   "metadata": {},
   "source": [
    "#### Operators\n",
    "\n",
    "##### +\n",
    "\n",
    "You can merge two or more Strings together to create a new one. This operation is called **Concatenating**.\n",
    "\n",
    "To concatenate two or more Strings together, we use the `+` operator, because it's like \"adding\" Strings together."
   ]
  },
  {
   "cell_type": "code",
   "execution_count": null,
   "metadata": {},
   "outputs": [],
   "source": [
    "helloWorld = \"Hello\" + \" \" + \"world,\"\n",
    "my = \" my \"\n",
    "nameIs = \"name is\"\n",
    "print(helloworld + my + nameIs + \" Emily!\")"
   ]
  },
  {
   "cell_type": "markdown",
   "metadata": {},
   "source": [
    "##### *\n",
    "\n",
    "You can also \"multiply\" Strings, using the `*` operator. Not very useful though..."
   ]
  },
  {
   "cell_type": "code",
   "execution_count": null,
   "metadata": {},
   "outputs": [],
   "source": [
    "lotsOfHellos = \"hello\" * 10\n",
    "print(lotsOfHellos)"
   ]
  },
  {
   "cell_type": "markdown",
   "metadata": {},
   "source": [
    "##### len() and [ ]\n",
    "\n",
    "More useful, Strings are considered like lists of characters (we will learn about Lists in another section).\n",
    "\n",
    "Which, means we can access a specific character using it's position (also called index).\n",
    "\n",
    "We can also get the \"size\" or \"length\" of a String, which represents the number of characters a String is made of."
   ]
  },
  {
   "cell_type": "code",
   "execution_count": null,
   "metadata": {},
   "outputs": [],
   "source": [
    "helloWorld = \"Hello world!\"\n",
    "# We use square brackets to indicate the position of the letter we want to get.\n",
    "# The position of the first letter of a String is 0, not 1!\n",
    "print(helloWorld[6]) # Returns 'w'\n",
    "\n",
    "# len() is the method used to return the length of a String\n",
    "print(\"helloWorld is made of\", len(helloWorld), \"characters\")\n",
    "\n",
    "# If we combine everything, we can get the last character of a String dynamically:\n",
    "# If it's too head-scratching, you can ask your teachers for help!\n",
    "print(\"The last character of helloWorld is\", helloWorld[len(helloWorld)-1]) "
   ]
  },
  {
   "cell_type": "markdown",
   "metadata": {},
   "source": [
    "## Control Statement\n",
    "\n",
    "Python, like any other programming language, provide a way for developper to execute certain actions based on certain conditions:\n",
    "\n",
    "> *If a condition is met, then I execute this code*\n",
    "\n",
    "For this, Python uses reserved words, or instructions, which are called **Control statements**\n",
    "\n",
    "The first one we are going to see is called...\n",
    "```python\n",
    "if\n",
    "```\n",
    "\n",
    "Couldn't be simpler !\n",
    "\n",
    "### If\n",
    "\n",
    "The syntaxe of the `if` statement is:\n",
    "\n",
    "```python\n",
    "if 'boolean condition' :\n",
    "    'code to execute'\n",
    "```\n",
    "the colon is used as a \"then\".\n",
    "\n",
    "Let's try it!"
   ]
  },
  {
   "cell_type": "code",
   "execution_count": null,
   "metadata": {},
   "outputs": [],
   "source": [
    "# When the number of students is greater than the number of seats, we print \"Not enough seast!\"\n",
    "nbStudents = 27\n",
    "nbSeats = 20\n",
    "\n",
    "if nbStudents > nbSeats:\n",
    "    print(\"Not enough seats!\")"
   ]
  },
  {
   "cell_type": "markdown",
   "metadata": {},
   "source": [
    "### If ... Else\n",
    "\n",
    "What if you want to execute a code when a condition is met AND another code when it's not met.\n",
    "\n",
    "> *If a condition is met, then i execute a code, if not, then I execute something else*\n",
    "\n",
    "Translates to Python as\n",
    "\n",
    "```python\n",
    "if 'boolean condition' :\n",
    "    'code to execute'\n",
    "else :\n",
    "    'another code to execute'\n",
    "```\n",
    "\n",
    "Try changing the number of students in the example below to print the \"All good!\" message:"
   ]
  },
  {
   "cell_type": "code",
   "execution_count": null,
   "metadata": {},
   "outputs": [],
   "source": [
    "nbStudents = 27\n",
    "nbSeats = 20\n",
    "\n",
    "if nbStudents > nbSeats:\n",
    "    print(\"Not enough seats!\")\n",
    "else:\n",
    "    print(\"All good!\")"
   ]
  },
  {
   "cell_type": "markdown",
   "metadata": {},
   "source": [
    "### If ... elif ... else\n",
    "\n",
    "What if you have multiple conditions and some code to execute for all of them?\n",
    "\n",
    "> *If a first condition is met, then I execute a code.*\n",
    "\n",
    "> *If the first condition is NOT met, BUT a second condition is met, then I execute this code instead*\n",
    "\n",
    "> *If none of the two conditions are met, then I execute this code instead*\n",
    "\n",
    "Translated to Python as\n",
    "\n",
    "```python\n",
    "if 'boolean condition' :\n",
    "    'code to execute'\n",
    "elif 'boolean condition' :\n",
    "    'another code to execute'\n",
    "else :\n",
    "    'another code to execute'\n",
    "```\n",
    "\n",
    "Now, let's try to modify the number of students in the example below to print all the three different messages:"
   ]
  },
  {
   "cell_type": "code",
   "execution_count": null,
   "metadata": {},
   "outputs": [],
   "source": [
    "nbStudents = 28\n",
    "minNbStudentsAllowed = 20\n",
    "maxNbStudentsAllowed = 30\n",
    "\n",
    "if nbStudents < minNbStudentsAllowed:\n",
    "    print(\"Not enough students!\")\n",
    "elif nbStudents > maxNbStudentsAllowed:\n",
    "    print(\"Too many students!\")\n",
    "else:\n",
    "    print(\"All good!\")"
   ]
  },
  {
   "cell_type": "markdown",
   "metadata": {
    "slideshow": {
     "slide_type": "slide"
    }
   },
   "source": [
    "## User inputs\n",
    "\n",
    "Writting code with fixed data like we did in the previous section is cool, but using dynamic data directly from your end user is awesome!\n",
    "\n",
    "Python permits it with a method called `input()`\n",
    "\n",
    "Its syntaxe is:\n",
    "\n",
    "```python\n",
    "myVar = input(\"Question\")\n",
    "```\n",
    "\n",
    "Where `\"Qestion\"` will be printed in your terminal, and then, the user will be allowed to type an answer.\n",
    "\n",
    "When the user press *Enter*, the input will then be assigned to the variable `myVar`\n",
    "\n",
    "Let's try it:"
   ]
  },
  {
   "cell_type": "code",
   "execution_count": null,
   "metadata": {
    "scrolled": true
   },
   "outputs": [],
   "source": [
    "myName = input(\"What's your name? \")\n",
    "\n",
    "print(\"Hello\", myName, \"!\")"
   ]
  },
  {
   "cell_type": "markdown",
   "metadata": {
    "slideshow": {
     "slide_type": "slide"
    }
   },
   "source": [
    "User inputs will always be of String type, which can be troublesome when you want to perform operations which need other data types.\n",
    "\n",
    "For instance, the following code will generate an error because `2018` is a number and `age` is String, and you cannot substract a number with a String!"
   ]
  },
  {
   "cell_type": "code",
   "execution_count": null,
   "metadata": {},
   "outputs": [],
   "source": [
    "aNumber = input(\"What is your year of birth? \")\n",
    "age = 2018 - aNumber"
   ]
  },
  {
   "cell_type": "markdown",
   "metadata": {
    "slideshow": {
     "slide_type": "slide"
    }
   },
   "source": [
    "In order to fix this, you will need to cast the input to the desire type. I.e."
   ]
  },
  {
   "cell_type": "code",
   "execution_count": null,
   "metadata": {},
   "outputs": [],
   "source": [
    "aNumber = int(input(\"What is your year of birth? \"))\n",
    "age = 2018 - aNumber\n",
    "print(\"Not bad for someone\", age, \"years old (or soon to be...)\")"
   ]
  },
  {
   "cell_type": "markdown",
   "metadata": {
    "slideshow": {
     "slide_type": "slide"
    }
   },
   "source": [
    "## Time to code\n",
    "\n",
    "It's now time for you to code a small program with everything you have learnt today!\n",
    "\n",
    "Use the code cell just below to write a program that will:\n",
    "\n",
    "#### Exercise 1:\n",
    "1. Ask the user for his firstname\n",
    "2. Ask the user for his lastname\n",
    "3. Ask the user for his gender\n",
    "4. Ask the user if he's married\n",
    "5. Print the following message \"Hello {title} {name}, your initials are: {initials}\"\n",
    "    * Where {title} is either Mr., Mrs., or Miss. depending on the user's answers\n",
    "    * Where {initials} is the first letter of his firstname and lastname.\n",
    "\n",
    "#### Exercise 2:\n",
    "1. Ask the user for his age\n",
    "2. Ask the user for the list of all his siblings age in order\n",
    "3. Print the birth order of the user among his siblings"
   ]
  },
  {
   "cell_type": "code",
   "execution_count": null,
   "metadata": {},
   "outputs": [],
   "source": [
    "# Write your program for Exercise 1 here\n",
    "\n",
    "\n",
    "\n"
   ]
  },
  {
   "cell_type": "code",
   "execution_count": null,
   "metadata": {},
   "outputs": [],
   "source": [
    "# Write your program for Exercise 2 here\n",
    "\n",
    "\n",
    "\n"
   ]
  },
  {
   "cell_type": "markdown",
   "metadata": {
    "slideshow": {
     "slide_type": "slide"
    }
   },
   "source": [
    "That's it for Lesson 2!\n",
    "\n",
    "If you'd like to dig deeper into the different types, operators, and control statements, you can have a look at the following pages: \n",
    "\n",
    "* [Variables and Types](https://www.learnpython.org/en/Variables_and_Types)\n",
    "* [Lists](https://www.learnpython.org/en/Lists)\n",
    "* [Basic Operators](https://www.learnpython.org/en/Basic_Operators)\n",
    "* [String Formatting](https://www.learnpython.org/en/String_Formatting)\n",
    "* [Basic String Operations](https://www.learnpython.org/en/Basic_String_Operations)\n",
    "* [Conditions](https://www.learnpython.org/en/Conditions)\n",
    "\n",
    "See you next week!"
   ]
  }
 ],
 "metadata": {
  "kernelspec": {
   "display_name": "Python 3",
   "language": "python",
   "name": "python3"
  },
  "language_info": {
   "codemirror_mode": {
    "name": "ipython",
    "version": 3
   },
   "file_extension": ".py",
   "mimetype": "text/x-python",
   "name": "python",
   "nbconvert_exporter": "python",
   "pygments_lexer": "ipython3",
   "version": "3.6.3"
  }
 },
 "nbformat": 4,
 "nbformat_minor": 2
}
