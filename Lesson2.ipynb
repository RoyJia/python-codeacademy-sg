{
 "cells": [
  {
   "cell_type": "markdown",
   "metadata": {},
   "source": [
    "## Lesson 2 Overview\n",
    "\n",
    "Now that you know how to run basic Python commands, let's learn about: \n",
    "* Variables and Types\n",
    "* How to use control statements\n",
    "* How to read user inputs"
   ]
  },
  {
   "cell_type": "markdown",
   "metadata": {},
   "source": [
    "## Let's load today's lesson!\n",
    "\n",
    "### Open Azure Notebooks library \n",
    "\n",
    "Go to https://notebooks.azure.com -> Sign in if needed -> Select **python-codeacademy-sg**\n",
    "\n",
    "### Update lesson file to latest version\n",
    "\n",
    "Select **New** -> **From URL** -> input https://raw.githubusercontent.com/viettrung9012/python-codeacademy-sg/master/Lesson2.ipynb (URL is available in **Lesson2.ipynb**) -> Click outside input then select **Upload** (overwrite if needed)\n",
    "\n",
    "### Open Jupyter lab\n",
    "\n",
    "Click on **Lesson2.ipynb**\n"
   ]
  },
  {
   "cell_type": "markdown",
   "metadata": {},
   "source": [
    "## Variables\n",
    "\n",
    "### What is a variable?\n",
    "\n",
    "Variables are used to store information to be referenced and manipulated in a computer program. In simple words, they are containers that hold information.\n",
    "\n",
    "Their sole purpose is to label and store data in memory. This data can then be used throughout your program.\n",
    "\n",
    "### Why are they important?\n",
    "\n",
    "They provide a way of labeling data with a descriptive name, so our programs can be understood more clearly by the reader and ourselves.\n",
    "\n",
    "Also, by storing data in a variable, you can access this data anywhere in your program without duplicating it. Therefore, it's easier to read and manipulate the data throughout your program\n",
    "\n",
    "### How to assign a value to a variable\n",
    "\n",
    "```python\n",
    "myVar = 42\n",
    "```\n",
    "\n",
    "That's it! Easy right?\n",
    "\n",
    "### Inputs / Outputs\n",
    "\n",
    "Many times in this lesson you will read words like \"inputs\" or \"output\". Just a quick clarification on what these two terms refer to:\n",
    "\n",
    "- Inputs are all the data/variables that the program stores or receives\n",
    "\n",
    "```python\n",
    "# My inputs:\n",
    "aVar = 4\n",
    "anotherVar = 4 * 8\n",
    "```\n",
    "Inputs can also come from the user as will learn further down in this lesson.\n",
    "\n",
    "- Outputs are everything that a program returns or print out.\n",
    "\n",
    "For instance:"
   ]
  },
  {
   "cell_type": "code",
   "execution_count": null,
   "metadata": {},
   "outputs": [],
   "source": [
    "# My inputs:\n",
    "aVar = 4\n",
    "anotherVar = 4 * 8\n",
    "\n",
    "# My outputs:\n",
    "print(aVar)\n",
    "print(\"10 times 4:\", 10 * 4)\n",
    "anotherVar"
   ]
  },
  {
   "cell_type": "markdown",
   "metadata": {},
   "source": [
    "### Let's try!\n",
    "\n",
    "You can run the code cell below to print the result."
   ]
  },
  {
   "cell_type": "code",
   "execution_count": null,
   "metadata": {},
   "outputs": [],
   "source": [
    "numberStudents = 44\n",
    "numberRooms = 4\n",
    "\n",
    "# Calculate an even number of students per classroom\n",
    "numberOfStudentsPerRoom = numberStudents / numberRooms\n",
    "\n",
    "print(numberOfStudentsPerRoom)"
   ]
  },
  {
   "cell_type": "markdown",
   "metadata": {},
   "source": [
    "Your turn!\n",
    "\n",
    "Can you replace the ??? below and solve the following code?"
   ]
  },
  {
   "cell_type": "code",
   "execution_count": null,
   "metadata": {},
   "outputs": [],
   "source": [
    "pi = 3.14\n",
    "radius = 12\n",
    "\n",
    "# Can you calculate the perimeter of a circle using the two variables above?\n",
    "# (Gentle reminder: P=2πr)\n",
    "perimeter = ???\n",
    "\n",
    "print(perimeter)"
   ]
  },
  {
   "cell_type": "markdown",
   "metadata": {},
   "source": [
    "After modifying the code above and running it, the output should be **75.4**\n",
    "\n",
    "If you got it right, you can continue to the next section, *Types*.\n",
    "\n",
    "## Basic Types\n",
    "\n",
    "Not all data are equal!\n",
    "\n",
    "In real life, you can't manipulate numbers the same way you manipulate words. You don’t use the same rules or syntax when you solve an equation or write a sentence.\n",
    "\n",
    "That's exactly the same with programming languages!\n",
    "\n",
    "That’s why Python uses **Types** to differentiate variables, so developers can manipulate different types of data.\n",
    "\n",
    "Let's see the different **Types** existing in Python.\n",
    "\n",
    "### Numbers\n",
    "\n",
    "As we have seen in the previous section, Python supports two types of numbers - **integers** and **floating point** numbers.\n",
    "\n",
    "**Integers** can be positive or negative, but don't have decimal values. **Floats** are the data type you use for manipulating decimal numbers."
   ]
  },
  {
   "cell_type": "code",
   "execution_count": null,
   "metadata": {},
   "outputs": [],
   "source": [
    "myNegInt = -3\n",
    "myPosInt = 7\n",
    "myNegFloat = -1.37\n",
    "myPosFloat = 9.99999\n",
    "\n",
    "print(myNegInt)\n",
    "print(myPosInt)\n",
    "print(myNegFloat)\n",
    "print(myPosFloat)"
   ]
  },
  {
   "cell_type": "markdown",
   "metadata": {},
   "source": [
    "Easy!\n",
    "\n",
    "#### Operators\n",
    "\n",
    "Integers and Floats support all the following arithmetic operations:"
   ]
  },
  {
   "cell_type": "code",
   "execution_count": null,
   "metadata": {},
   "outputs": [],
   "source": [
    "# Addition\n",
    "print(10+3) # 13\n",
    "\n",
    "# Substraction\n",
    "print(-3-10) # -13\n",
    "\n",
    "# Multiplication\n",
    "print(6*7*2) # 84\n",
    "\n",
    "# Division (the result of a division is always a float)\n",
    "print(10/3) # 3.3333333\n",
    "print(8/2) # 4.0\n",
    "\n",
    "# Modulo\n",
    "# The modulo (%) operator returns the integer remainder of the division. dividend % divisor = remainder.\n",
    "print(10%4) # 2\n",
    "\n",
    "# Power (double star)\n",
    "print(2**3) # 8\n"
   ]
  },
  {
   "cell_type": "code",
   "execution_count": null,
   "metadata": {},
   "outputs": [],
   "source": [
    "# The order of operations follow the same rules as written equations.\n",
    "# You can use parenthesis to group operations\n",
    "# Can you tell what will be the result of the following equations before clicking on Run?\n",
    "print( 3*10*2/5 )\n",
    "print( 10/((8-7)*2) )"
   ]
  },
  {
   "cell_type": "markdown",
   "metadata": {},
   "source": [
    "### Booleans \n",
    "\n",
    "Booleans are specific types that reprensent a statement or a condition which can be **True** or **False**\n"
   ]
  },
  {
   "cell_type": "code",
   "execution_count": null,
   "metadata": {
    "scrolled": true
   },
   "outputs": [],
   "source": [
    "myTrueBoolean = True\n",
    "myFalseBoolean = False\n",
    "\n",
    "print(myTrueBoolean)\n",
    "print(myFalseBoolean)\n",
    "\n",
    "# Dynamically set a boolean value from a condition\n",
    "is2GreaterThan3 = 2 > 3\n",
    "is2LowerThan3 = 2 < 3\n",
    "\n",
    "print(\"is 2 greater than 3 ?\", is2GreaterThan3)\n",
    "print(\"is 2 lower than 3 ?\", is2LowerThan3)\n",
    "\n",
    "# Since a single = sign is used to assign value to a variable\n",
    "# In order to check equality, we use a double == sign\n",
    "# We can also group the condition inside parenthesis for better readability\n",
    "\n",
    "is2Equal3 = (2 == 3)\n",
    "is2Equal2 = (2 == 2)\n",
    "\n",
    "print(\"is 2 equal 3 ?\", is2Equal3)\n",
    "print(\"is 2 equal 2 ?\", is2Equal2)\n",
    "\n",
    "# Inequality:  !=\n",
    "is3DifferentThan100 = (3 != 100)\n",
    "is3DifferentThan3 = (3 != 3)\n",
    "\n",
    "print(\"is 3 different than 100 ?\", is3DifferentThan100)\n",
    "print(\"is 3 different than 3 ?\", is3DifferentThan3)\n",
    "\n",
    "# Greater or Equal / Lower or Equal:  >= / <=\n",
    "is3GreaterEqualTo100 = (3 >= 100)\n",
    "is3LowerEqualTo100 = (3 <= 100)\n",
    "is3GreaterEqualTo3 = (3 >= 3)\n",
    "is3LowerEqualTo3 = (3 <= 3)\n",
    "\n",
    "print(\"is 3 greater or equal to 100 ?\", is3GreaterEqualTo100)\n",
    "print(\"is 3 lower or equal to 100 ?\", is3LowerEqualTo100)\n",
    "print(\"is 3 greater or equal to 3 ?\", is3GreaterEqualTo3)\n",
    "print(\"is 3 lower or equal to 3 ?\", is3LowerEqualTo3)\n",
    "\n",
    "# Inverse a boolean condition\n",
    "print(\"not True is\", not True)\n",
    "print(\"not False is\", not False)\n",
    "print(\"not 2==2 is\", not 2==2)"
   ]
  },
  {
   "cell_type": "markdown",
   "metadata": {},
   "source": [
    "#### Operators\n",
    "\n",
    "OK, it gets a bit tricky here.\n",
    "\n",
    "You can combine multiple conditions to make a full statement **True** or **False**, using two operators: **and** and **or**."
   ]
  },
  {
   "cell_type": "markdown",
   "metadata": {},
   "source": [
    "##### And\n",
    "\n",
    "* All the conditions must be True for the whole statement to be True\n",
    "* If at least one statement is False, then the whole statement is False\n",
    "\n",
    "E.g."
   ]
  },
  {
   "cell_type": "code",
   "execution_count": null,
   "metadata": {},
   "outputs": [],
   "source": [
    "print(\"(True and 2>3) returns\", True and 2>3 ) # False\n",
    "print(\"(True and 2<3 and 2==2 and not False) returns\", True and 2<3 and 2==2 and not False ) # True"
   ]
  },
  {
   "cell_type": "markdown",
   "metadata": {},
   "source": [
    "##### Or\n",
    "\n",
    "* If at least one condition is True, then the whole statement is True\n",
    "* All the condition must be False for the whole statement to be False\n",
    "\n",
    "E.g."
   ]
  },
  {
   "cell_type": "code",
   "execution_count": null,
   "metadata": {},
   "outputs": [],
   "source": [
    "print(\"(False or 2==100 or False or 1==1) returns\", (False) or (2==100) or (False) or (1==1) ) # True\n",
    "print(\"(not True or 2>3 or 2!=2 or False) returns\", (not True) or (2>3) or (2!=2) or (False) ) # False"
   ]
  },
  {
   "cell_type": "markdown",
   "metadata": {},
   "source": [
    "### Strings\n",
    "\n",
    "Strings represent words, sentences, names, everything that you can label.\n",
    "\n",
    "They are declared using double quotes:"
   ]
  },
  {
   "cell_type": "code",
   "execution_count": null,
   "metadata": {},
   "outputs": [],
   "source": [
    "myString = \"Hello!\"\n",
    "allCharactersAllowed = \"Hi, my name is !@£$%^&*() and I'm 46 years old.\"\n",
    "\n",
    "print(myString)\n",
    "print(allCharactersAllowed)\n",
    "\n",
    "# If you want to use double quotes in your sentence, you need to escape it using a anti-slash character \"\\\" :\n",
    "\n",
    "quotesInMyQuotes = \"And he replied: \\\"Luke, I'm your father\\\"\"\n",
    "\n",
    "print(quotesInMyQuotes)"
   ]
  },
  {
   "cell_type": "markdown",
   "metadata": {},
   "source": [
    "#### Operators\n",
    "\n",
    "##### +\n",
    "\n",
    "You can merge two or more Strings together to create a new one. This operation is called **Concatenating**.\n",
    "\n",
    "To concatenate two or more Strings together, we use the `+` operator, because it's like \"adding\" Strings together."
   ]
  },
  {
   "cell_type": "code",
   "execution_count": null,
   "metadata": {},
   "outputs": [],
   "source": [
    "helloWorld = \"Hello\" + \" \" + \"world,\"\n",
    "my = \" my \"\n",
    "nameIs = \"name is\"\n",
    "print(helloworld + my + nameIs + \" Emily!\")"
   ]
  },
  {
   "cell_type": "markdown",
   "metadata": {},
   "source": [
    "##### *\n",
    "\n",
    "You can also \"multiply\" Strings, using the `*` operator. Not very useful though..."
   ]
  },
  {
   "cell_type": "code",
   "execution_count": null,
   "metadata": {},
   "outputs": [],
   "source": [
    "lotsOfHellos = \"hello\" * 10\n",
    "print(lotsOfHellos)"
   ]
  },
  {
   "cell_type": "markdown",
   "metadata": {},
   "source": [
    "##### len() and [ ]\n",
    "\n",
    "More useful, Strings are considered like lists of characters (we will learn about Lists in another section).\n",
    "\n",
    "Which means we can access a specific character using its position (also called index).\n",
    "\n",
    "We can also get the \"size\" or \"length\" of a String, which represents the number of characters a String is made of."
   ]
  },
  {
   "cell_type": "code",
   "execution_count": null,
   "metadata": {},
   "outputs": [],
   "source": [
    "helloWorld = \"Hello world!\"\n",
    "# We use square brackets to indicate the position of the letter we want to get.\n",
    "# The position of the first letter of a String is 0, not 1!\n",
    "print(helloWorld[6]) # Returns 'w'\n",
    "\n",
    "# len() is the method used to return the length of a String\n",
    "print(\"helloWorld is made of\", len(helloWorld), \"characters\")\n",
    "\n",
    "# If we combine everything, we can get the last character of a String dynamically:\n",
    "# If it's too head-scratching, you can ask your teachers for help!\n",
    "print(\"The last character of helloWorld is\", helloWorld[len(helloWorld)-1]) "
   ]
  },
  {
   "cell_type": "markdown",
   "metadata": {},
   "source": [
    "### Casting\n",
    "\n",
    "Are `1`, `1.0`, and `\"1\"` the same?\n",
    "\n",
    "`1` is an Integer, `1.0` is a Float and `\"1\"` is a String. But, from a human perspective, the three of them just represent the number 1.\n",
    "\n",
    "Let's find out if Python considers them equal:"
   ]
  },
  {
   "cell_type": "code",
   "execution_count": null,
   "metadata": {},
   "outputs": [],
   "source": [
    "print(1==\"1\")\n",
    "print(1==1.0)\n",
    "print(1.0==\"1\")"
   ]
  },
  {
   "cell_type": "markdown",
   "metadata": {},
   "source": [
    "As you can see by running the code cell above, Python allows you to compare numbers (1==1.0 is True), but you can't compare numbers and Strings together (1.0==\"1\" is False) !\n",
    "\n",
    "This means, when you want to compare data, you must make sure all the data is from the same type. To do so, you need to convert data from a Type to another. This is called **Casting**.\n",
    "\n",
    "In order to cast a value or a variable to a specific Type, you wrap them around the following methods:"
   ]
  },
  {
   "cell_type": "code",
   "execution_count": null,
   "metadata": {},
   "outputs": [],
   "source": [
    "intFromFloat = int(1.0)\n",
    "intFromString = int(\"1\")\n",
    "print(\"1.0 and \\\"1\\\" are now both Integers:\", intFromFloat==intFromString) \n",
    "\n",
    "floatFromInt = float(1)\n",
    "floatFromString = float(\"1\")\n",
    "print(\"1 and \\\"1\\\" are now both Floats:\", floatFromInt==floatFromString) \n",
    "\n",
    "stringFromInt = str(1)\n",
    "stringFromFloat = str(1.0)\n",
    "print(\"1 and 1.0 are now both Strings. But are they equal?\", stringFromInt==stringFromFloat) "
   ]
  },
  {
   "cell_type": "markdown",
   "metadata": {},
   "source": [
    "Hey?! Why the two Strings above are not equal??\n",
    "\n",
    "Let's have a look at what these two String in details:"
   ]
  },
  {
   "cell_type": "code",
   "execution_count": null,
   "metadata": {},
   "outputs": [],
   "source": [
    "print(\"1 casted to String is:\", str(1))\n",
    "print(\"1.0 casted to String is:\", str(1.0))"
   ]
  },
  {
   "cell_type": "markdown",
   "metadata": {},
   "source": [
    "Remember when you learnt that a String is a list of characters?\n",
    "\n",
    "Well, here, \n",
    "\n",
    "- `\"1\"` is a list of one character which is `1`.\n",
    "- `\"1.0\"` is a list of three characters which are `1`, `.`, and `0`.\n",
    "\n",
    "Therefore, these two Strings are not equal!\n",
    "\n",
    "##### You can even cast Booleans!\n",
    "\n",
    "1 is considered as True and 0 is considered as False.\n",
    "\n",
    "Let's have a deeper look:"
   ]
  },
  {
   "cell_type": "code",
   "execution_count": null,
   "metadata": {},
   "outputs": [],
   "source": [
    "intToBool = bool(1)\n",
    "floatToBool = bool(1.0)\n",
    "\n",
    "print(intToBool, \"is\", floatToBool)\n",
    "\n",
    "intToBool = bool(0)\n",
    "floatToBool = bool(0.0)\n",
    "\n",
    "print(intToBool, \"is\", floatToBool)\n",
    "\n",
    "# From Strings, any not empty String will be considered True, no matter what's written.\n",
    "emptyStrToBool = bool(\"\")\n",
    "spaceStrToBool = bool(\" \")\n",
    "num1StrToBool = bool(\"1\")\n",
    "num0StrToBool = bool(\"0\")\n",
    "trueStrToBool = bool(\"True\")\n",
    "falseStrToBool = bool(\"False\")\n",
    "\n",
    "print(\"Empty String is\", emptyStrToBool)\n",
    "print(\"The rest is\", spaceStrToBool, \"and\", num1StrToBool, \"and\", num0StrToBool, \"and\", trueStrToBool, \"and\", falseStrToBool)\n"
   ]
  },
  {
   "cell_type": "markdown",
   "metadata": {},
   "source": [
    "## Control Statement\n",
    "\n",
    "Python, like any other programming language, provides a way for developers to execute certain actions based on certain conditions:\n",
    "\n",
    "> *If a condition is met, then I execute this code*\n",
    "\n",
    "For this, Python uses reserved words, or instructions, which are called **Control statements**\n",
    "\n",
    "The first one we are going to see is called...\n",
    "```python\n",
    "if\n",
    "```\n",
    "\n",
    "Couldn't be simpler !\n",
    "\n",
    "### If\n",
    "\n",
    "The syntax of the `if` statement is:\n",
    "\n",
    "```python\n",
    "if 'boolean condition' :\n",
    "    'code to execute'\n",
    "```\n",
    "the colon is used as a \"then\".\n",
    "\n",
    "Let's try it!"
   ]
  },
  {
   "cell_type": "code",
   "execution_count": null,
   "metadata": {},
   "outputs": [],
   "source": [
    "# When the number of students is greater than the number of seats, we print \"Not enough seats!\"\n",
    "nbStudents = 27\n",
    "nbSeats = 20\n",
    "\n",
    "if nbStudents > nbSeats:\n",
    "    print(\"Not enough seats!\")"
   ]
  },
  {
   "cell_type": "markdown",
   "metadata": {},
   "source": [
    "### If ... Else\n",
    "\n",
    "What if you want to execute a code when a condition is met AND another code when it's not met.\n",
    "\n",
    "> *If a condition is met, then i execute a code, if not, then I execute something else*\n",
    "\n",
    "Translates to Python as\n",
    "\n",
    "```python\n",
    "if 'boolean condition' :\n",
    "    'code to execute'\n",
    "else :\n",
    "    'another code to execute'\n",
    "```\n",
    "\n",
    "Try changing the number of students in the example below to print the \"All good!\" message:"
   ]
  },
  {
   "cell_type": "code",
   "execution_count": null,
   "metadata": {},
   "outputs": [],
   "source": [
    "nbStudents = 27\n",
    "nbSeats = 20\n",
    "\n",
    "if nbStudents > nbSeats:\n",
    "    print(\"Not enough seats!\")\n",
    "else:\n",
    "    print(\"All good!\")"
   ]
  },
  {
   "cell_type": "markdown",
   "metadata": {},
   "source": [
    "### If ... elif ... else\n",
    "\n",
    "What if you have multiple conditions and some code to execute for all of them?\n",
    "\n",
    "> *If a first condition is met, then I execute a code.*\n",
    "\n",
    "> *If the first condition is NOT met, BUT a second condition is met, then I execute this code instead*\n",
    "\n",
    "> *If none of the two conditions are met, then I execute this code instead*\n",
    "\n",
    "Translated to Python as\n",
    "\n",
    "```python\n",
    "if 'boolean condition' :\n",
    "    'code to execute'\n",
    "elif 'boolean condition' :\n",
    "    'another code to execute'\n",
    "else :\n",
    "    'another code to execute'\n",
    "```\n",
    "\n",
    "Now, let's try to modify the number of students in the example below to print all the three different messages:"
   ]
  },
  {
   "cell_type": "code",
   "execution_count": null,
   "metadata": {},
   "outputs": [],
   "source": [
    "nbStudents = 28\n",
    "minNbStudentsAllowed = 20\n",
    "maxNbStudentsAllowed = 30\n",
    "\n",
    "if nbStudents < minNbStudentsAllowed:\n",
    "    print(\"Not enough students!\")\n",
    "elif nbStudents > maxNbStudentsAllowed:\n",
    "    print(\"Too many students!\")\n",
    "else:\n",
    "    print(\"All good!\")"
   ]
  },
  {
   "cell_type": "markdown",
   "metadata": {
    "slideshow": {
     "slide_type": "slide"
    }
   },
   "source": [
    "## Advanced Types\n",
    "\n",
    "The advanced types in Python are also called data structures.\n",
    "\n",
    "A data structure is a particular way of organizing and storing data in a computer so that it can be accessed and modified efficiently. (https://en.wikipedia.org/wiki/Data_structure)\n",
    "\n",
    "Today, we will learn the following data structures: Lists, Tuples and Dictionaries."
   ]
  },
  {
   "cell_type": "markdown",
   "metadata": {
    "slideshow": {
     "slide_type": "slide"
    }
   },
   "source": [
    "### Lists\n",
    "\n",
    "As the name indicates, a List is an ordered set of data. It's also called Collections, sequences or Arrays. It is similar to our daily checklist, task list, etc.\n",
    "\n",
    "Data is comma-separated and you declare a list using square brackets. It accepts every type of data:\n",
    "\n",
    "```python\n",
    "# An empty list\n",
    "myList = []\n",
    "\n",
    "# A list of integers\n",
    "myList = [1,2,10,220]\n",
    "\n",
    "# A list of integers, floats, strings and booleans\n",
    "myList = [1,\"2\",10.5, False]\n",
    "\n",
    "# A list of Lists! (also called nested lists)\n",
    "myList = [[1,2], [3,4]]\n",
    "```\n",
    "\n",
    "Remember when you learnt that a String is like a List of characters?\n",
    "\n",
    "So, let's see one more time how to access an element of the list and how to get the number of elements in a list:"
   ]
  },
  {
   "cell_type": "code",
   "execution_count": null,
   "metadata": {},
   "outputs": [],
   "source": [
    "# Lists are index-based and the first element is at index 0:\n",
    "shopping_list = ['Apple', 'Banana', 'Orange', \"Strawberry\", \"Mango\"]\n",
    "\n",
    "print(\"Accessing the first element of the list (Index 0):\", shopping_list[0])\n",
    "\n",
    "# You can get a sublist of items by using a range of indices separated by a colon.\n",
    "# First index is inclusive, second index is exclusive\n",
    "print(\"Get the elements from index 1 to 4:\", shopping_list[1:4])\n",
    "\n",
    "# Changing an element of the list\n",
    "shopping_list[2] = \"Cherry\"\n",
    "print(\"I've changed the third element (Index 2)\")\n",
    "print(\"Here's my new shopping list:\", shopping_list)\n",
    "\n",
    "# We use the len() method to get the numbers of elements in a List\n",
    "print(\"The Shopping list has\", len(shopping_list), \"items\")"
   ]
  },
  {
   "cell_type": "markdown",
   "metadata": {
    "slideshow": {
     "slide_type": "slide"
    }
   },
   "source": [
    "When there are some Lists inside a List, we call them nested Lists. You will learn later that it's the same for every data structure (nested Tuples, nested Dictionaries, etc.)\n",
    "\n",
    "Let's see how to access data in a nested list:"
   ]
  },
  {
   "cell_type": "code",
   "execution_count": null,
   "metadata": {},
   "outputs": [],
   "source": [
    "myNestedList = [[\"Apple\", \"Banana\"], [12, 44, 65], [3.14]]\n",
    "\n",
    "# First, you indicate the index of the sublist you want to access\n",
    "subList = myNestedList[1]\n",
    "# Then, just like we learnt earlier, we access the desired value using its index.\n",
    "myValue = subList[2]\n",
    "print(\"Third value of the second list:\", myValue)\n",
    "\n",
    "# Let's combine everything in one line:\n",
    "print(myNestedList[1][0], myNestedList[0][1]+\"s\", \"are worth\", myNestedList[2][0], \"$\")"
   ]
  },
  {
   "cell_type": "markdown",
   "metadata": {
    "slideshow": {
     "slide_type": "slide"
    }
   },
   "source": [
    "#### Operators\n",
    "\n",
    "##### Append\n",
    "\n",
    "The `append(x)` method adds the element `x` to the end of the list:"
   ]
  },
  {
   "cell_type": "code",
   "execution_count": null,
   "metadata": {},
   "outputs": [],
   "source": [
    "myList = [1,20]\n",
    "print(\"Before append():\", myList)\n",
    "\n",
    "myList.append(10)\n",
    "print(\"After append():\", myList)"
   ]
  },
  {
   "cell_type": "markdown",
   "metadata": {
    "slideshow": {
     "slide_type": "slide"
    }
   },
   "source": [
    "To add multiple elements at once, you can use the `+` operator to combine two lists:"
   ]
  },
  {
   "cell_type": "code",
   "execution_count": null,
   "metadata": {},
   "outputs": [],
   "source": [
    "myList = [1,2,3]\n",
    "print(\"Before +:\", myList)\n",
    "\n",
    "myList = myList + [4,5,6]\n",
    "print(\"After +:\", myList)"
   ]
  },
  {
   "cell_type": "markdown",
   "metadata": {
    "slideshow": {
     "slide_type": "slide"
    }
   },
   "source": [
    "##### Remove\n",
    "\n",
    "The `remove(x)` method removes the first item from the list whose value is `x`. An error is returned if there is no such item:"
   ]
  },
  {
   "cell_type": "code",
   "execution_count": null,
   "metadata": {},
   "outputs": [],
   "source": [
    "myList = [1,20,1,10]\n",
    "print(\"Before remove():\", myList)\n",
    "\n",
    "myList.remove(1)\n",
    "print(\"After remove():\", myList)\n",
    "print(\"Only the first occurrence of 1 has been removed\")"
   ]
  },
  {
   "cell_type": "code",
   "execution_count": null,
   "metadata": {},
   "outputs": [],
   "source": [
    "myList = [1,20,1,10]\n",
    "\n",
    "# 33 is not present in the list, therefore an error is thrown.\n",
    "myList.remove(33)"
   ]
  },
  {
   "cell_type": "markdown",
   "metadata": {
    "slideshow": {
     "slide_type": "slide"
    }
   },
   "source": [
    "##### Insert\n",
    "\n",
    "The `insert(i, x)` method inserts an item at a given position. `i` being the index to insert the item `x` at."
   ]
  },
  {
   "cell_type": "code",
   "execution_count": null,
   "metadata": {},
   "outputs": [],
   "source": [
    "myList = [1,\"apple\",4.5]\n",
    "print(\"Before insert():\", myList)\n",
    "\n",
    "myList.insert(2, \"Banana\")\n",
    "print(\"After insert(2, \\\"Banana\\\"):\", myList)"
   ]
  },
  {
   "cell_type": "markdown",
   "metadata": {
    "slideshow": {
     "slide_type": "slide"
    }
   },
   "source": [
    "##### In\n",
    "\n",
    "You can check if a List contains a certain value by using the `in` operator.\n",
    "\n",
    "```python\n",
    "value in [List]\n",
    "```\n",
    "\n",
    "Will return True or False as a boolean statement. "
   ]
  },
  {
   "cell_type": "code",
   "execution_count": null,
   "metadata": {},
   "outputs": [],
   "source": [
    "print(\"Is 42 part of the list?\", 42 in [1, 'Bob', 4.0, 42, True])\n",
    "\n",
    "shoppingList = [\"Apple\", 'Banana', 'Orange', \"Strawberry\", \"Mango\"]\n",
    "\n",
    "print(\"Is Cherry part of my Shopping List?\", \"Cherry\" in shoppingList)"
   ]
  },
  {
   "cell_type": "markdown",
   "metadata": {
    "slideshow": {
     "slide_type": "slide"
    }
   },
   "source": [
    "It will be very useful to be used with Control Statements!"
   ]
  },
  {
   "cell_type": "code",
   "execution_count": null,
   "metadata": {},
   "outputs": [],
   "source": [
    "shoppingList = [\"Apple\", 'Banana', 'Orange', \"Strawberry\", \"Mango\"]\n",
    "\n",
    "if \"Cherry\" in shoppingList:\n",
    "    print(\"All good!\")\n",
    "else:\n",
    "    print(\"Don't forget the Cherries!\")"
   ]
  },
  {
   "cell_type": "markdown",
   "metadata": {
    "slideshow": {
     "slide_type": "slide"
    }
   },
   "source": [
    "### Tuples\n",
    "\n",
    "Tuples are like Lists, with the small difference that they cannot be modified. We call them an **immutable** data structure.\n",
    "\n",
    "It is useful when you want to use a constant set of Data as reference.\n",
    "\n",
    "They are declared using parenthesis instead of square brackets for Lists, but all the operators or methods described earlier for Lists work for Tuples too."
   ]
  },
  {
   "cell_type": "code",
   "execution_count": null,
   "metadata": {},
   "outputs": [],
   "source": [
    "weekDays = (\"Monday\", \"Tuesday\", \"Wednesday\", \"Thursday\", \"Friday\", \"Saturday\", \"Sunday\")\n",
    "print(weekDays)\n",
    "print(\"First day of the week:\", weekDays[0])\n",
    "print(\"Working days:\", weekDays[0:5])"
   ]
  },
  {
   "cell_type": "markdown",
   "metadata": {
    "slideshow": {
     "slide_type": "slide"
    }
   },
   "source": [
    "Tuples are immutable. If we try to add or remove an element, an error is thrown."
   ]
  },
  {
   "cell_type": "code",
   "execution_count": null,
   "metadata": {},
   "outputs": [],
   "source": [
    "weekDays = (\"Monday\", \"Tuesday\", \"Wednesday\", \"Thursday\", \"Friday\", \"Saturday\", \"Sunday\")\n",
    "weekDays.append(\"OtherDay\")"
   ]
  },
  {
   "cell_type": "code",
   "execution_count": null,
   "metadata": {},
   "outputs": [],
   "source": [
    "weekDays = (\"Monday\", \"Tuesday\", \"Wednesday\", \"Thursday\", \"Friday\", \"Saturday\", \"Sunday\")\n",
    "weekDays.remove(\"Monday\")"
   ]
  },
  {
   "cell_type": "markdown",
   "metadata": {
    "slideshow": {
     "slide_type": "slide"
    }
   },
   "source": [
    "But, we can cast a Tulpe to a List! We will then get a copy of the data that we can modify."
   ]
  },
  {
   "cell_type": "code",
   "execution_count": null,
   "metadata": {},
   "outputs": [],
   "source": [
    "weekDays = (\"Monday\", \"Tuesday\", \"Wednesday\", \"Thursday\", \"Friday\", \"Saturday\", \"Sunday\")\n",
    "workingDays = list(weekDays)\n",
    "workingDays.remove(\"Saturday\")\n",
    "workingDays.remove(\"Sunday\")\n",
    "\n",
    "print(\"Working days:\", workingDays)\n",
    "print(\"And the original Tuple still exist and hasn't been modified:\", weekDays)"
   ]
  },
  {
   "cell_type": "markdown",
   "metadata": {
    "slideshow": {
     "slide_type": "slide"
    }
   },
   "source": [
    "### Dictionaries\n",
    "\n",
    "List and Tuples are nice but become quickly limited when we want to manipulate more detailed and organised data.\n",
    "\n",
    "Let's write down some users' pesonal data for example:"
   ]
  },
  {
   "cell_type": "code",
   "execution_count": null,
   "metadata": {},
   "outputs": [],
   "source": [
    "aliceDetails = [\n",
    "    'Alice',    # name\n",
    "    12,         # age\n",
    "    ['reading', 'singing'] # hobbies\n",
    "]\n",
    "bobDetails = [\n",
    "    24,\n",
    "    ['dancing', 'drawing'],\n",
    "    'Bob',\n",
    "    '33 Mackenzie Road'\n",
    "]\n",
    "\n",
    "print(\"Alice's age:\", aliceDetails[1])\n",
    "print(\"Bob's age:\", bobDetails[0])\n",
    "print(\"Bob's home address:\", bobDetails[3])"
   ]
  },
  {
   "cell_type": "markdown",
   "metadata": {},
   "source": [
    "As a developer, it's easy to see what index tallies to the user's age.\n",
    "\n",
    "But, what if I have 100 users who have 100 different details each? And how do I retrieve Alice's home address? \n",
    "\n",
    "It would be a nightmare to retrieve the right detail accurately.\n",
    "\n",
    "That's why, for more detailed and organised data, we use a data structure called **Dictionaries**\n",
    "\n",
    "A Dictionary is a collection of key-value paired data. Unlike Lists, we use a label (called a key) as index, not a number.\n",
    "\n",
    "A Dictionary is declared using curly brackets `{}` and a value is assigned to a key by using the colon `:` operator. E.g."
   ]
  },
  {
   "cell_type": "code",
   "execution_count": null,
   "metadata": {},
   "outputs": [],
   "source": [
    "alice_details = {\n",
    "    'name': 'Alice', # key : value\n",
    "    'age': 12,\n",
    "    'hobbies': ['reading', 'singing']\n",
    "}\n",
    "bob_details = {\n",
    "    'age': 24,\n",
    "    'hobbies': ['dancing', 'drawing'],\n",
    "    'name': 'Bob',\n",
    "    'address': '33 Mackenzie Road'\n",
    "}\n",
    "\n",
    "# dictionary[key] - We can access the value through the key, not the index\n",
    "print(\"Alice's name:\", alice_details['name']) \n",
    "print(\"Bob's name:\", bob_details['name']) "
   ]
  },
  {
   "cell_type": "markdown",
   "metadata": {
    "slideshow": {
     "slide_type": "slide"
    }
   },
   "source": [
    "No matter how the data is ordered, by using a key, we are sure to find the right data.\n",
    "\n",
    "Just like Lists, Dictionaries' values can be of any types: Strings, Boleans, Numbers, and even Lists and Dictionaries.\n",
    "\n",
    "Combining Lists and Dictionaries will allow us to create nested Dictionaries with even more detailed date.\n",
    "\n",
    "Can you update the code below in order to print the correct desired output?"
   ]
  },
  {
   "cell_type": "code",
   "execution_count": null,
   "metadata": {},
   "outputs": [],
   "source": [
    "# A Dictionary\n",
    "peter_details = {\n",
    "    'name': 'Peter',\n",
    "    'age': 12,\n",
    "    # A nested dictionary to represent the address\n",
    "    'address': {\n",
    "        'city': 'Paris',\n",
    "        'country': \"France\",\n",
    "        'street': 'Rue de la Paix'\n",
    "    }\n",
    "}\n",
    "\n",
    "# A List of Dictionaries\n",
    "peter_classmates = [\n",
    "    {\n",
    "        'name': 'Alice',\n",
    "        'age': 12,\n",
    "        'hobbies': ['reading', 'singing']\n",
    "    },\n",
    "    {\n",
    "        'name': 'Bob',\n",
    "        'age': 12,\n",
    "        'hobbies': ['dancing', 'drawing'],\n",
    "        'test_scores': {\n",
    "            'math': 100,\n",
    "            'english': 99\n",
    "        }\n",
    "    }\n",
    "]\n",
    "\n",
    "\n",
    "# print Peter's name\n",
    "print(peter_details['name'])\n",
    "\n",
    "# print Peter's age\n",
    "\n",
    "\n",
    "# print Peter's city\n",
    "\n",
    "\n",
    "# print Peter's first classmate first hobby\n",
    "\n",
    "\n",
    "# print Bob's English score"
   ]
  },
  {
   "cell_type": "markdown",
   "metadata": {
    "slideshow": {
     "slide_type": "slide"
    }
   },
   "source": [
    "#### Operators\n",
    "\n",
    "##### Updating an element"
   ]
  },
  {
   "cell_type": "code",
   "execution_count": null,
   "metadata": {},
   "outputs": [],
   "source": [
    "peter_details = {\n",
    "    'name': 'Peter',\n",
    "    'age': 12\n",
    "}\n",
    "print(\"Peter's age:\", peter_details['age'])\n",
    "\n",
    "# Specify the key to modify and assign the value with =\n",
    "peter_details['age'] = 24\n",
    "\n",
    "print(\"Peter's age:\", peter_details['age'])"
   ]
  },
  {
   "cell_type": "markdown",
   "metadata": {
    "slideshow": {
     "slide_type": "slide"
    }
   },
   "source": [
    "##### Adding a new element"
   ]
  },
  {
   "cell_type": "code",
   "execution_count": null,
   "metadata": {},
   "outputs": [],
   "source": [
    "peter_details = {\n",
    "    'name': 'Peter',\n",
    "    'age': 12\n",
    "}\n",
    "\n",
    "# Just use a key that doesn't exist yet\n",
    "peter_details['address'] = \"33 Mackenzie road\"\n",
    "\n",
    "print(\"Peter's address:\", peter_details['address'])\n",
    "print(\"Peter's details:\", peter_details)"
   ]
  },
  {
   "cell_type": "markdown",
   "metadata": {
    "slideshow": {
     "slide_type": "slide"
    }
   },
   "source": [
    "##### Deleting"
   ]
  },
  {
   "cell_type": "code",
   "execution_count": null,
   "metadata": {},
   "outputs": [],
   "source": [
    "dict = {'Name': 'Zara', 'Age': 7, 'Class': 'First'}\n",
    "print(\"Zara's dict:\", dict)\n",
    "\n",
    "del(dict['Name']) # remove entry with key 'Name'\n",
    "print(\"After del(dict['Name']):\", dict)\n",
    "\n",
    "dict.clear()      # remove all entries in dict\n",
    "print(\"After dict.clear() :\", dict)\n",
    "\n",
    "del(dict)         # delete entire dictionary\n",
    "print(\"After del(dict):\", dict)"
   ]
  },
  {
   "cell_type": "markdown",
   "metadata": {
    "slideshow": {
     "slide_type": "slide"
    }
   },
   "source": [
    "##### Useful methods"
   ]
  },
  {
   "cell_type": "code",
   "execution_count": null,
   "metadata": {},
   "outputs": [],
   "source": [
    "dict = {'Name': 'Zara', 'Age': 7, 'Class': 'First'}\n",
    "\n",
    "print(\"Size of dictionary:\", len(dict))\n",
    "print(\"Get all the values as as List:\", dict.values())\n",
    "print(\"Get all the keys as as List:\", dict.keys())"
   ]
  },
  {
   "cell_type": "markdown",
   "metadata": {
    "slideshow": {
     "slide_type": "slide"
    }
   },
   "source": [
    "## User inputs\n",
    "\n",
    "Writting code with fixed data like we did in the previous section is cool, but using dynamic data directly from your end user is awesome!\n",
    "\n",
    "Python permits it with a method called `input()`\n",
    "\n",
    "Its syntax is:\n",
    "\n",
    "```python\n",
    "myVar = input(\"Question\")\n",
    "```\n",
    "\n",
    "Where `\"Qestion\"` will be printed in your terminal, and then, the user will be allowed to type an answer.\n",
    "\n",
    "When the user press *Enter*, the input will then be assigned to the variable `myVar`\n",
    "\n",
    "Let's try it:"
   ]
  },
  {
   "cell_type": "code",
   "execution_count": null,
   "metadata": {
    "scrolled": true
   },
   "outputs": [],
   "source": [
    "myName = input(\"What's your name? \")\n",
    "\n",
    "print(\"Hello\", myName, \"!\")"
   ]
  },
  {
   "cell_type": "markdown",
   "metadata": {
    "slideshow": {
     "slide_type": "slide"
    }
   },
   "source": [
    "User inputs will always be of String type, which can be troublesome when you want to perform operations which need other data types.\n",
    "\n",
    "For instance, the following code will generate an error because `2018` is a number and `age` is String, and you cannot substract a number with a String!"
   ]
  },
  {
   "cell_type": "code",
   "execution_count": null,
   "metadata": {},
   "outputs": [],
   "source": [
    "aNumber = input(\"What is your year of birth? \")\n",
    "age = 2018 - aNumber"
   ]
  },
  {
   "cell_type": "markdown",
   "metadata": {
    "slideshow": {
     "slide_type": "slide"
    }
   },
   "source": [
    "In order to fix this, you will need to cast the input to the desired type. I.e."
   ]
  },
  {
   "cell_type": "code",
   "execution_count": null,
   "metadata": {},
   "outputs": [],
   "source": [
    "aNumber = int(input(\"What is your year of birth? \"))\n",
    "age = 2018 - aNumber\n",
    "print(\"Not bad for someone\", age, \"years old (or soon to be...)\")"
   ]
  },
  {
   "cell_type": "markdown",
   "metadata": {
    "slideshow": {
     "slide_type": "slide"
    }
   },
   "source": [
    "## Time to code\n",
    "\n",
    "It's now time for you to code a small program with everything you have learnt today!\n",
    "\n",
    "Use the code cell just below to write a program that will:\n",
    "\n",
    "#### Exercise 1:\n",
    "1. Ask the user for his firstname\n",
    "2. Ask the user for his lastname\n",
    "3. Ask the user for his gender\n",
    "4. Ask the user if he's married\n",
    "5. Print the following message \"Hello {title} {name}, your initials are: {initials}\"\n",
    "    * Where {title} is either Mr., Mrs., or Miss. depending on the user's answers\n",
    "    * Where {initials} is the first letter of his firstname and lastname.\n",
    "\n",
    "#### Exercise 2:\n",
    "1. Ask the user for his age\n",
    "2. Ask the user for the list of all his siblings age in order\n",
    "3. Print the number of siblings\n",
    "4. Print the birth order of the user among his siblings\n",
    "\n",
    "#### Exercise 3:\n",
    "1. Imagine a team of 3 persons. Write every team member's details (name, age, address, hobbies) in a variable.\n",
    "2. Ask the user for the number of the team member he wants to see the details of and print it\n",
    "3. Ask the user for a team member's name and print his details."
   ]
  },
  {
   "cell_type": "code",
   "execution_count": null,
   "metadata": {},
   "outputs": [],
   "source": [
    "# Write your program for Exercise 1 here\n",
    "\n",
    "\n",
    "\n"
   ]
  },
  {
   "cell_type": "code",
   "execution_count": null,
   "metadata": {},
   "outputs": [],
   "source": [
    "# Write your program for Exercise 2 here\n",
    "\n",
    "\n",
    "\n"
   ]
  },
  {
   "cell_type": "code",
   "execution_count": null,
   "metadata": {},
   "outputs": [],
   "source": [
    "# Write your program for Exercise 3 here\n",
    "\n",
    "\n",
    "\n"
   ]
  },
  {
   "cell_type": "markdown",
   "metadata": {
    "slideshow": {
     "slide_type": "slide"
    }
   },
   "source": [
    "That's it for Lesson 2!\n",
    "\n",
    "If you'd like to dig deeper into the different types, operators, and control statements, you can have a look at the following pages: \n",
    "\n",
    "* [Variables and Types](https://www.learnpython.org/en/Variables_and_Types)\n",
    "* [Basic Operators](https://www.learnpython.org/en/Basic_Operators)\n",
    "* [Lists](https://docs.python.org/3/tutorial/datastructures.html)\n",
    "* [Tuples](https://www.tutorialspoint.com/python/python_tuples.htm)\n",
    "* [Dictionaries](https://www.tutorialspoint.com/python/python_dictionary.htm)\n",
    "* [String Formatting](https://www.learnpython.org/en/String_Formatting)\n",
    "* [Basic String Operations](https://www.learnpython.org/en/Basic_String_Operations)\n",
    "* [Conditions](https://www.learnpython.org/en/Conditions)\n",
    "\n",
    "See you next week!"
   ]
  }
 ],
 "metadata": {
  "kernelspec": {
   "display_name": "Python 3",
   "language": "python",
   "name": "python3"
  },
  "language_info": {
   "codemirror_mode": {
    "name": "ipython",
    "version": 3
   },
   "file_extension": ".py",
   "mimetype": "text/x-python",
   "name": "python",
   "nbconvert_exporter": "python",
   "pygments_lexer": "ipython3",
   "version": "3.5.4"
  }
 },
 "nbformat": 4,
 "nbformat_minor": 2
}
