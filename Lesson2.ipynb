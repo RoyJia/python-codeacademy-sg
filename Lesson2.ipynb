{
 "cells": [
  {
   "cell_type": "markdown",
   "metadata": {},
   "source": [
    "## Lesson 2 Overview\n",
    "\n",
    "Now that you know how to run basic Python commands, let's learn about: \n",
    "* Variables and Types\n",
    "* How to use control statements\n",
    "* How to read user inputs"
   ]
  },
  {
   "cell_type": "markdown",
   "metadata": {},
   "source": [
    "## Let's load today's lesson!\n",
    "\n",
    "### Open Azure Notebooks library \n",
    "\n",
    "Go to https://notebooks.azure.com -> Sign in if needed -> Select **python-codeacademy-sg**\n",
    "\n",
    "### Update lesson file to latest version\n",
    "\n",
    "Select **New** -> **From URL** -> input https://raw.githubusercontent.com/viettrung9012/python-codeacademy-sg/master/Lesson2.ipynb (URL is available in **Lesson2.ipynb**) -> Click outside input then select **Upload** (overwrite if needed)\n",
    "\n",
    "### Open Jupyter lab\n",
    "\n",
    "Click on **Lesson2.ipynb**\n"
   ]
  },
  {
   "cell_type": "markdown",
   "metadata": {},
   "source": [
    "## Variables\n",
    "\n",
    "### What is a variable?\n",
    "\n",
    "Variables are used to store information to be referenced and manipulated in a computer program. In simple words, they are containers that hold information.\n",
    "\n",
    "Their sole purpose is to label and store data in memory. This data can then be used throughout your program.\n",
    "\n",
    "### Why are they important?\n",
    "\n",
    "They provide a way of labeling data with a descriptive name, so our programs can be understood more clearly by the reader and ourselves.\n",
    "\n",
    "Also, by storing data in a variable, you can access this data anywhere in your program without duplicating it. Therefore, it's easier to read and manipulate the data throughout your program\n",
    "\n",
    "### How to assign a value to a variable\n",
    "\n",
    "```python\n",
    "myVar = 42\n",
    "```\n",
    "\n",
    "That's it! Easy right?\n",
    "\n",
    "### Let's try!\n",
    "\n",
    "You can run the code cell below to print the result."
   ]
  },
  {
   "cell_type": "code",
   "execution_count": null,
   "metadata": {},
   "outputs": [],
   "source": [
    "numberStudents = 44\n",
    "numberRooms = 4\n",
    "\n",
    "# Calculate an even number of students per classroom\n",
    "numberOfStudentsPerRoom = numberStudents / numberRooms\n",
    "\n",
    "print(numberOfStudentsPerRoom)"
   ]
  },
  {
   "cell_type": "markdown",
   "metadata": {},
   "source": [
    "Your turn!\n",
    "\n",
    "Can you replace the ??? below and solve the following code?"
   ]
  },
  {
   "cell_type": "code",
   "execution_count": null,
   "metadata": {},
   "outputs": [],
   "source": [
    "pi = 3.14\n",
    "radius = 12\n",
    "\n",
    "# Can you calculate the perimeter of a circle using the two above variables ?\n",
    "# (Gentle reminder: P=2πr)\n",
    "perimeter = ???\n",
    "\n",
    "print(perimeter)"
   ]
  },
  {
   "cell_type": "markdown",
   "metadata": {},
   "source": [
    "After modifying the code above and running it, the output should be **75.4**\n",
    "\n",
    "If you got it right, you can continue to the next section, *Types*.\n",
    "\n",
    "## Types\n",
    "\n",
    "Not all data are equal!\n",
    "\n",
    "In real life, you can't manipulate numbers the same way you manipulate words. You don't use the same rules or syntaxe when you solve an equation or when you write a sentence.\n",
    "\n",
    "That's exactly the same with programming languages!\n",
    "\n",
    "That's why Python uses **Types** to differentiate variables, so developpers can manipulate different types of data.\n",
    "\n",
    "Let's see the different **Types** existing in Python.\n",
    "\n",
    "### Numbers\n",
    "\n",
    "As we have seen in the previous section, Python supports two types of numbers - **integers** and **floating point** numbers.\n",
    "\n",
    "**Integers** can be positive or negative, but don't have decimal values. **Floats** are the data type you use for manipulating decimal numbers."
   ]
  },
  {
   "cell_type": "code",
   "execution_count": null,
   "metadata": {},
   "outputs": [],
   "source": [
    "myNegInt = -3\n",
    "myPosInt = 7\n",
    "myNegFloat = -1.37\n",
    "myPosFloat = 9.99999\n",
    "\n",
    "print(myNegInt)\n",
    "print(myPosInt)\n",
    "print(myNegFloat)\n",
    "print(myPosFloat)"
   ]
  },
  {
   "cell_type": "markdown",
   "metadata": {},
   "source": [
    "Easy!\n",
    "\n",
    "### Booleans \n",
    "\n",
    "Booleans are specific types that reprensent a statement or a condition which can be **True** or **False**\n"
   ]
  },
  {
   "cell_type": "code",
   "execution_count": null,
   "metadata": {
    "scrolled": true
   },
   "outputs": [],
   "source": [
    "myTrueBoolean = True\n",
    "myFalseBoolean = False\n",
    "\n",
    "print(myTrueBoolean)\n",
    "print(myFalseBoolean)\n",
    "\n",
    "# Dynamically set a boolean value from a condition\n",
    "is2GreaterThan3 = 2 > 3\n",
    "is2LowerThan3 = 2 < 3\n",
    "\n",
    "print(is2GreaterThan3)\n",
    "print(is2LowerThan3)"
   ]
  },
  {
   "cell_type": "markdown",
   "metadata": {},
   "source": [
    "### Strings\n",
    "\n",
    "Strings represent words, sentences, names, everything that you can label.\n",
    "\n",
    "They are declared using double quotes:"
   ]
  },
  {
   "cell_type": "code",
   "execution_count": null,
   "metadata": {},
   "outputs": [],
   "source": [
    "myString = \"Hello!\"\n",
    "allCharactersAllowed = \"Hi, my name is !@£$%^&*() and I'm 46 years old.\"\n",
    "\n",
    "print(myString)\n",
    "print(allCharactersAllowed)\n",
    "\n",
    "# If you want to use double quotes in your sentence, you need to escape it using a anti-slash character \"\\\" :\n",
    "\n",
    "quotesInMyQuotes = \"And he replied: \\\"Luke, I'm your father\\\"\"\n",
    "\n",
    "print(quotesInMyQuotes)"
   ]
  },
  {
   "cell_type": "markdown",
   "metadata": {},
   "source": [
    "## Control Statement\n",
    "\n",
    "Python, like any other programming language, provide a way for developper to execute certain actions based on certain conditions:\n",
    "\n",
    "> *If a condition is met, then I execute this code*\n",
    "\n",
    "For this, Python uses reserved words, or instructions, which are called **Control statements**\n",
    "\n",
    "The first one we are going to see is called...\n",
    "```python\n",
    "if\n",
    "```\n",
    "\n",
    "Couldn't be simpler !\n",
    "\n",
    "### If\n",
    "\n",
    "The syntaxe of the `if` statement is:\n",
    "\n",
    "```python\n",
    "if 'boolean condition' :\n",
    "    'code to execute'\n",
    "```\n",
    "the colon is used as a \"then\".\n",
    "\n",
    "Let's try it!"
   ]
  },
  {
   "cell_type": "code",
   "execution_count": 1,
   "metadata": {},
   "outputs": [
    {
     "name": "stdout",
     "output_type": "stream",
     "text": [
      "Not enough seats!\n"
     ]
    }
   ],
   "source": [
    "# When the number of students is greater than the number of seats, we print \"Not enough seast!\"\n",
    "nbStudents = 27\n",
    "nbSeats = 20\n",
    "\n",
    "if nbStudents > nbSeats:\n",
    "    print(\"Not enough seats!\")"
   ]
  },
  {
   "cell_type": "markdown",
   "metadata": {},
   "source": [
    "### If ... Else\n",
    "\n",
    "What if you want to execute a code when a condition is met AND another code when it's not met.\n",
    "\n",
    "> *If a condition is met, then i execute a code, if not, then I execute something else*\n",
    "\n",
    "Translates to Python as\n",
    "\n",
    "```python\n",
    "if 'boolean condition' :\n",
    "    'code to execute'\n",
    "else :\n",
    "    'another code to execute'\n",
    "```\n",
    "\n",
    "Try changing the number of students in the example below to print the \"All good!\" message:"
   ]
  },
  {
   "cell_type": "code",
   "execution_count": null,
   "metadata": {},
   "outputs": [],
   "source": [
    "nbStudents = 27\n",
    "nbSeats = 20\n",
    "\n",
    "if nbStudents > nbSeats:\n",
    "    print(\"Not enough seats!\")\n",
    "else:\n",
    "    print(\"All good!\")"
   ]
  },
  {
   "cell_type": "markdown",
   "metadata": {},
   "source": [
    "### If ... elif ... else\n",
    "\n",
    "What if you have multiple conditions and some code to execute for all of them?\n",
    "\n",
    "> *If a first condition is met, then I execute a code.*\n",
    "\n",
    "> *If the first condition is NOT met, BUT a second condition is met, then I execute this code instead*\n",
    "\n",
    "> *If none of the two conditions are met, then I execute this code instead*\n",
    "\n",
    "Translated to Python as\n",
    "\n",
    "```python\n",
    "if 'boolean condition' :\n",
    "    'code to execute'\n",
    "elif 'boolean condition' :\n",
    "    'another code to execute'\n",
    "else :\n",
    "    'another code to execute'\n",
    "```\n",
    "\n",
    "Now, let's try to modify the number of students in the example below to print all the three different messages:"
   ]
  },
  {
   "cell_type": "code",
   "execution_count": null,
   "metadata": {},
   "outputs": [],
   "source": [
    "nbStudents = 28\n",
    "minNbStudentsAllowed = 20\n",
    "maxNbStudentsAllowed = 30\n",
    "\n",
    "if nbStudents < minNbStudentsAllowed:\n",
    "    print(\"Not enough students!\")\n",
    "elif nbStudents > maxNbStudentsAllowed:\n",
    "    print(\"Too many students!\")\n",
    "else:\n",
    "    print(\"All good!\")"
   ]
  },
  {
   "cell_type": "markdown",
   "metadata": {
    "slideshow": {
     "slide_type": "slide"
    }
   },
   "source": [
    "## User inputs\n",
    "\n",
    "Writting code with fixed data like we did in the previous section is cool, but using dynamic data directly from your end user is awesome!\n",
    "\n",
    "Python permits it with a method called `input()`\n",
    "\n",
    "Its syntaxe is:\n",
    "\n",
    "```python\n",
    "myVar = input(\"Question\")\n",
    "```\n",
    "\n",
    "Where `\"Qestion\"` will be printed in your terminal, and then, the user will be allowed to type an answer.\n",
    "\n",
    "When the user press *Enter*, the input will then be assigned to the variable `myVar`\n",
    "\n",
    "Let's try it:"
   ]
  },
  {
   "cell_type": "code",
   "execution_count": 38,
   "metadata": {
    "scrolled": true
   },
   "outputs": [
    {
     "name": "stdout",
     "output_type": "stream",
     "text": [
      "What's your name? kj\n",
      "Hello kj !\n"
     ]
    }
   ],
   "source": [
    "myName = input(\"What's your name? \")\n",
    "\n",
    "print(\"Hello\", myName, \"!\")"
   ]
  },
  {
   "cell_type": "markdown",
   "metadata": {
    "slideshow": {
     "slide_type": "slide"
    }
   },
   "source": [
    "User inputs will always be of String type, which can be troublesome when you want to perform operations which need other data types.\n",
    "\n",
    "For instance, the following code will generate an error because `2018` is a number and `age` is String, and you cannot substract a number with a String!"
   ]
  },
  {
   "cell_type": "code",
   "execution_count": 34,
   "metadata": {},
   "outputs": [
    {
     "name": "stdout",
     "output_type": "stream",
     "text": [
      "What is your year of birth? 33\n"
     ]
    },
    {
     "ename": "TypeError",
     "evalue": "unsupported operand type(s) for -: 'int' and 'str'",
     "output_type": "error",
     "traceback": [
      "\u001b[0;31m---------------------------------------------------------------------------\u001b[0m",
      "\u001b[0;31mTypeError\u001b[0m                                 Traceback (most recent call last)",
      "\u001b[0;32m<ipython-input-34-ee487403461a>\u001b[0m in \u001b[0;36m<module>\u001b[0;34m()\u001b[0m\n\u001b[1;32m      1\u001b[0m \u001b[0maNumber\u001b[0m \u001b[0;34m=\u001b[0m \u001b[0minput\u001b[0m\u001b[0;34m(\u001b[0m\u001b[0;34m\"What is your year of birth? \"\u001b[0m\u001b[0;34m)\u001b[0m\u001b[0;34m\u001b[0m\u001b[0m\n\u001b[0;32m----> 2\u001b[0;31m \u001b[0mage\u001b[0m \u001b[0;34m=\u001b[0m \u001b[0;36m2018\u001b[0m \u001b[0;34m-\u001b[0m \u001b[0maNumber\u001b[0m\u001b[0;34m\u001b[0m\u001b[0m\n\u001b[0m",
      "\u001b[0;31mTypeError\u001b[0m: unsupported operand type(s) for -: 'int' and 'str'"
     ]
    }
   ],
   "source": [
    "aNumber = input(\"What is your year of birth? \")\n",
    "age = 2018 - aNumber"
   ]
  },
  {
   "cell_type": "markdown",
   "metadata": {
    "slideshow": {
     "slide_type": "slide"
    }
   },
   "source": [
    "In order to fix this, you will need to cast the input to the desire type. I.e."
   ]
  },
  {
   "cell_type": "code",
   "execution_count": 37,
   "metadata": {},
   "outputs": [
    {
     "name": "stdout",
     "output_type": "stream",
     "text": [
      "What is your year of birth? 1984\n",
      "Not bad for someone 34 years old (or soon to be...)\n"
     ]
    }
   ],
   "source": [
    "aNumber = int(input(\"What is your year of birth? \"))\n",
    "age = 2018 - aNumber\n",
    "print(\"Not bad for someone\", age, \"years old (or soon to be...)\")"
   ]
  },
  {
   "cell_type": "markdown",
   "metadata": {
    "slideshow": {
     "slide_type": "slide"
    }
   },
   "source": [
    "## Time to code\n",
    "\n",
    "It's now time for you to code a small program with everything you have learnt today!\n",
    "\n",
    "Use the code cell just below to write a program that will:\n",
    "\n",
    "#### Exercise 1:\n",
    "1. Ask the user for his name\n",
    "2. Ask the user for his gender\n",
    "3. Ask the user if he's married\n",
    "4. Print the following message \"Hello {title} {name}\"\n",
    "    * Where title is either Mr., Mrs., or Miss. depending on the user's answers\n",
    "\n",
    "#### Exercise 2:\n",
    "1. Ask the user for his age\n",
    "2. Ask the user for the list of all his siblings age in order\n",
    "3. Print the birth order of the user among his siblings"
   ]
  },
  {
   "cell_type": "code",
   "execution_count": 39,
   "metadata": {},
   "outputs": [],
   "source": [
    "# Write your program for Exercise 1 here\n",
    "\n",
    "\n",
    "\n"
   ]
  },
  {
   "cell_type": "code",
   "execution_count": 39,
   "metadata": {},
   "outputs": [],
   "source": [
    "# Write your program for Exercise 2 here\n",
    "\n",
    "\n",
    "\n"
   ]
  },
  {
   "cell_type": "markdown",
   "metadata": {
    "slideshow": {
     "slide_type": "slide"
    }
   },
   "source": [
    "That's it for Lesson 2!\n",
    "\n",
    "If you'd like to dig deeper into the different types, operators, and control statements, you can have a look at the following pages: \n",
    "\n",
    "* [Variables and Types](https://www.learnpython.org/en/Variables_and_Types)\n",
    "* [Lists](https://www.learnpython.org/en/Lists)\n",
    "* [Basic Operators](https://www.learnpython.org/en/Basic_Operators)\n",
    "* [String Formatting](https://www.learnpython.org/en/String_Formatting)\n",
    "* [Basic String Operations](https://www.learnpython.org/en/Basic_String_Operations)\n",
    "* [Conditions](https://www.learnpython.org/en/Conditions)\n",
    "\n",
    "See you next week!"
   ]
  }
 ],
 "metadata": {
  "kernelspec": {
   "display_name": "Python 3",
   "language": "python",
   "name": "python3"
  },
  "language_info": {
   "codemirror_mode": {
    "name": "ipython",
    "version": 3
   },
   "file_extension": ".py",
   "mimetype": "text/x-python",
   "name": "python",
   "nbconvert_exporter": "python",
   "pygments_lexer": "ipython3",
   "version": "3.5.4"
  }
 },
 "nbformat": 4,
 "nbformat_minor": 2
}
