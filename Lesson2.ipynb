{
 "cells": [
  {
   "cell_type": "markdown",
   "metadata": {},
   "source": [
    "## Lesson 2 Overview\n",
    "\n",
    "We have downloaded the steps data from the Biggest Loser Challenge and formatted it into comma separated values (csv) format for easier processing.\n",
    "\n",
    "Today, let's: \n",
    "* Read the csv file\n",
    "* List contents of the csv file\n",
    "* Search for a specific person's name and print their steps"
   ]
  },
  {
   "cell_type": "markdown",
   "metadata": {},
   "source": [
    "## Let's load today's lesson!\n",
    "\n",
    "Visit https://mybinder.org/v2/gh/viettrung9012/python-codeacademy-sg/master?urlpath=lab "
   ]
  },
  {
   "cell_type": "code",
   "execution_count": null,
   "metadata": {},
   "outputs": [],
   "source": [
    "# Let's read this csv\n",
    "\n",
    "import pandas as pd"
   ]
  },
  {
   "cell_type": "markdown",
   "metadata": {},
   "source": [
    "## Now let's save your file\n",
    "\n",
    "Select the file you've changed from the left side column. Right-click on mouse and select \"Download\", to save it to your local folder."
   ]
  },
  {
   "cell_type": "markdown",
   "metadata": {},
   "source": [
    "## Recap\n",
    "\n",
    "Congratulations! You've learnt:\n",
    "\n",
    "* How to read a csv file into Python"
   ]
  }
 ],
 "metadata": {
  "kernelspec": {
   "display_name": "Python 3",
   "language": "python",
   "name": "python3"
  },
  "language_info": {
   "codemirror_mode": {
    "name": "ipython",
    "version": 3
   },
   "file_extension": ".py",
   "mimetype": "text/x-python",
   "name": "python",
   "nbconvert_exporter": "python",
   "pygments_lexer": "ipython3",
   "version": "3.6.3"
  }
 },
 "nbformat": 4,
 "nbformat_minor": 2
}
