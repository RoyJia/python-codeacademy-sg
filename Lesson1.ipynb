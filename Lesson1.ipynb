{
 "cells": [
  {
   "cell_type": "markdown",
   "metadata": {},
   "source": [
    "## Introduction\n",
    "\n",
    "* **Trainers:** EWE Singapore team\n",
    "* **Class:** \n",
    "  * Please introduce yourselves\n",
    "  * State if you have learnt programming before (and if so which language)\n",
    "  * Tell what you hope to achieve at the end of the course\n"
   ]
  },
  {
   "cell_type": "markdown",
   "metadata": {},
   "source": [
    "## Course Overview\n",
    "\n",
    "* **Python:** version 3.6.0\n",
    "* **Data:** We will use the steps data from the recently completed Biggest Loser Challenge\n",
    "* **Every week:** You will learn something new in Python to help you answer questions on the Biggest Loser Challenge!\n",
    "* **At the end of the course:** You should be able to do simple data analysis using Python "
   ]
  },
  {
   "cell_type": "markdown",
   "metadata": {},
   "source": [
    "## Why is Python named Python?\n",
    "\n",
    "[Guido van Rossum](https://en.wikipedia.org/wiki/Guido_van_Rossum) is the creator of Python and also Python's [\"Benevolent Dictator For Life\" (BDFL)](https://en.wikipedia.org/wiki/Benevolent_dictator_for_life). When he started working on Python, he was also reading the published scripts from [\"Monty Python's Flying Circus\"](https://en.wikipedia.org/wiki/Monty_Python%27s_Flying_Circus), a BBC comedy series from the 1970s. Van Rossum thought he needed a name that was short, unique, and slightly mysterious, so he decided to call the language Python.\n",
    "Python was first introduced in 1990."
   ]
  },
  {
   "cell_type": "markdown",
   "metadata": {},
   "source": [
    "## But why are *we* learning Python?\n",
    "\n",
    "Python is a powerful high-level programming language, yet readable and easy to understand. No matter which [programming language ranking](https://techbeacon.com/programming-language-rankings-which-ones-matter) you refer to, Python is one of the most popular programming languages now. \n",
    "\n",
    "Also, you voted for it :)"
   ]
  },
  {
   "cell_type": "markdown",
   "metadata": {},
   "source": [
    "## Let's load your first lesson!\n",
    "\n",
    "Visit https://github.com/viettrung9012/python-codeacademy-sg\n",
    "\n",
    "Click on **Launch AzureNB badge** -> **Import** -> Sign-in using your @expedia.com email -> **Import** again\n",
    "\n",
    "Click **Run** -> Change browser URL path from **/nb/tree** to **/nb/lab**\n",
    "\n",
    "Bookmark this URL"
   ]
  },
  {
   "cell_type": "markdown",
   "metadata": {},
   "source": [
    "## Wait.. I don't need to install anything? \n",
    "\n",
    "No, you don't. We are hosting everything on **JupyterLab**, which is a web-based user interface that allows you to run your code in a flexible and integrated manner. This means you can easily move the cells around.\n",
    "\n",
    "Okaaaay, if you **really** want to know more, here's the [detailed documentation](https://jupyterlab.readthedocs.io/en/stable/getting_started/overview.html)."
   ]
  },
  {
   "cell_type": "markdown",
   "metadata": {},
   "source": [
    "## Let's start by moving this cell right to the tippy top!\n",
    "\n",
    "Just hover your cursor in the extreme left margin of this cell until it turns into a cross-hair. Then, just drag this cell up to the top."
   ]
  },
  {
   "cell_type": "markdown",
   "metadata": {},
   "source": [
    "## Let's talk about different Cell Types\n",
    "\n",
    "### First, we have cells for Markdown\n",
    "\n",
    "Double-click on this cell. You'll see that this is a [Markdown](https://en.wikipedia.org/wiki/Markdown) cell, which means this cell is just text formatting. \n",
    "\n",
    "\"##\" at the start of this cell denotes Header level H2 text formatting. We won't go into details, but if you're interested to know more, here's a [Markdown cheat sheet](https://github.com/adam-p/markdown-here/wiki/Markdown-Cheatsheet#lines).\n",
    "\n",
    "Select this cell and choose menu option \"Run > Run Selected Cells\" (or you can simply click on the play button above). This cell transforms into a nicely formatted text."
   ]
  },
  {
   "cell_type": "markdown",
   "metadata": {},
   "source": [
    "### Next, we have cells for Code "
   ]
  },
  {
   "cell_type": "code",
   "execution_count": null,
   "metadata": {},
   "outputs": [],
   "source": [
    "# Hello, this is a code cell.\n",
    "# Comments start with # symbol, and don't get executed. \n",
    "\n",
    "# Select this cell and run\n",
    "\n",
    "print (\"Hello World\")"
   ]
  },
  {
   "cell_type": "markdown",
   "metadata": {},
   "source": [
    "## Awesome, you've just written your first Python code!\n",
    "\n",
    "Want to try some more? Run the following cells!"
   ]
  },
  {
   "cell_type": "code",
   "execution_count": null,
   "metadata": {},
   "outputs": [],
   "source": [
    "1+1"
   ]
  },
  {
   "cell_type": "code",
   "execution_count": null,
   "metadata": {},
   "outputs": [],
   "source": [
    "7-4"
   ]
  },
  {
   "cell_type": "code",
   "execution_count": null,
   "metadata": {},
   "outputs": [],
   "source": [
    "2*3"
   ]
  },
  {
   "cell_type": "code",
   "execution_count": null,
   "metadata": {},
   "outputs": [],
   "source": [
    "5/2"
   ]
  },
  {
   "cell_type": "markdown",
   "metadata": {},
   "source": [
    "## Now, it's your turn to add a new cell!\n",
    "\n",
    "Click on \"+\" button to add a new cell. Try to add:\n",
    "* one new Markdown cell\n",
    "* one new Code cell"
   ]
  },
  {
   "cell_type": "markdown",
   "metadata": {},
   "source": [
    "## Got that? Let's talk about different File Types\n",
    "\n",
    "* A file with only Markdown text has the file extension .md (e.g. README.md)\n",
    "* A file with only Python code has the file extension .py\n",
    "* A file (like this one!) which has a mixture of Markdown text and Python code is an iPython notebook, and has the file extension .ipynb"
   ]
  },
  {
   "cell_type": "markdown",
   "metadata": {},
   "source": [
    "## Now let's save your file\n",
    "\n",
    "Select the file you've changed from the left side column. Right-click on mouse and select \"Download\", to save it to your local folder. "
   ]
  },
  {
   "cell_type": "markdown",
   "metadata": {},
   "source": [
    "## Recap\n",
    "\n",
    "Congratulations! You've learnt:\n",
    "\n",
    "* The origins of Python\n",
    "* How to navigate round Jupyterlab\n",
    "* The different cell types: \n",
    "  * markdown\n",
    "  * code\n",
    "* How to print output in Python\n",
    "* How to run simple Math operations in Python\n",
    "* How to add new cells\n",
    "* The different file types: \n",
    "  * .md\n",
    "  * .py\n",
    "  * .ipynb\n",
    "* How to save your own .ipynb"
   ]
  },
  {
   "cell_type": "markdown",
   "metadata": {},
   "source": [
    "## References\n",
    "\n",
    "* The magic of Python has been summarized into this poem [Tim Peters - The Zen of Python](https://www.python.org/dev/peps/pep-0020/#id3)\n",
    "    \n"
   ]
  }
 ],
 "metadata": {
  "kernelspec": {
   "display_name": "Python 3",
   "language": "python",
   "name": "python3"
  },
  "language_info": {
   "codemirror_mode": {
    "name": "ipython",
    "version": 3
   },
   "file_extension": ".py",
   "mimetype": "text/x-python",
   "name": "python",
   "nbconvert_exporter": "python",
   "pygments_lexer": "ipython3",
   "version": "3.6.3"
  }
 },
 "nbformat": 4,
 "nbformat_minor": 2
}
