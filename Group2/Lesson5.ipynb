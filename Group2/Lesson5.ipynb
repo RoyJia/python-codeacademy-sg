{
 "cells": [
  {
   "cell_type": "markdown",
   "metadata": {},
   "source": [
    "### All Expedia's APIs\n",
    "https://www.expedia.com/static/mobile/swaggerui/"
   ]
  },
  {
   "cell_type": "markdown",
   "metadata": {},
   "source": [
    "### Lest's code!"
   ]
  },
  {
   "cell_type": "code",
   "execution_count": null,
   "metadata": {},
   "outputs": [],
   "source": [
    "import requests, json\n",
    "\n",
    "def searchHotelsOnExpedia():\n",
    "    url = \"https://www.expedia.com/m/api/hotel/search/v3\"\n",
    "    \n",
    "    # parameters is a dictionary containing the parameters' names and values to send to the API\n",
    "    # the parameters to send are: city, checkInDate, checkOutDate, room1, resultsPerPage\n",
    "    # the format for the dates is YYYY-MM-DD\n",
    "    parameters = {\n",
    "        \"city\": \"Paris\",\n",
    "        \"checkInDate\" : \"2018-09-05\",\n",
    "        \"room1\" : 2,\n",
    "        \"resultsPerPage\": 10, \n",
    "        \"checkOutDate\": \"2018-09-06\"\n",
    "    }\n",
    "    \n",
    "    # You don't need to know what's happening in the next two lines.\n",
    "    headers = {'Cache-Control': \"no-cache\",'Postman-Token': \"7f7ae813-bf7a-4bca-9e8d-49bf5912b484\"}\n",
    "    return json.loads(requests.request(\"GET\", url, headers=headers, params=parameters).text)\n",
    "\n",
    "\n",
    "# Let's make a hotels search on Expedia!\n",
    "data = searchHotelsOnExpedia()\n",
    "#print(data)\n",
    "\n",
    "\n",
    "# Create a function that receives the list of hotels and a hotel index as input, and \n",
    "# print the name, the total price with fees, and the guest rating for this hotel\n",
    "def print_hotel_info(hotelToPrint):\n",
    "    print(hotelToPrint['name'], '-', hotelToPrint['lowRateInfo']['formattedTotalPriceWithMandatoryFees'], '-', hotelToPrint['hotelGuestRating'])\n",
    "\n",
    "\n",
    "# Print the names, the total price with fees, and the guest rating of all the Hotels\n",
    "hotelList = data['hotelList']\n",
    "\n",
    "for hotel in hotelList:\n",
    "    print_hotel_info(hotel)\n"
   ]
  },
  {
   "cell_type": "code",
   "execution_count": null,
   "metadata": {},
   "outputs": [],
   "source": [
    "data = searchHotelsOnExpedia()\n",
    "hotelList = data['hotelList']\n",
    "\n",
    "# Find the Cheapest Hotel\n",
    "\n",
    "\n"
   ]
  },
  {
   "cell_type": "code",
   "execution_count": null,
   "metadata": {},
   "outputs": [],
   "source": [
    "data = searchHotelsOnExpedia()\n",
    "hotelList = data['hotelList']\n",
    "\n",
    "# Find the Best Rated Hotel\n",
    "\n",
    "\n"
   ]
  },
  {
   "cell_type": "code",
   "execution_count": null,
   "metadata": {},
   "outputs": [],
   "source": [
    "# Ask the user for a city name, a check-in date, and a check-out date\n",
    "\n",
    "\n",
    "\n",
    "# Change the searchHotelsOnExpedia() function to use user's inputs instead\n"
   ]
  }
 ],
 "metadata": {
  "kernelspec": {
   "display_name": "Python 3.6",
   "language": "python",
   "name": "python36"
  },
  "language_info": {
   "codemirror_mode": {
    "name": "ipython",
    "version": 3
   },
   "file_extension": ".py",
   "mimetype": "text/x-python",
   "name": "python",
   "nbconvert_exporter": "python",
   "pygments_lexer": "ipython3",
   "version": "3.6.3"
  }
 },
 "nbformat": 4,
 "nbformat_minor": 2
}
