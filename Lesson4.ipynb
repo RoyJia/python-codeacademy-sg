{
 "cells": [
  {
   "cell_type": "markdown",
   "metadata": {},
   "source": [
    "## Lesson 4 Overview\n",
    "\n",
    " * What's a CSV file\n",
    " * List contents of a CSV file\n",
    " * Total steps for each member\n",
    " * Print the names of people with steps count more than 100k\n",
    " * Print total steps for each team"
   ]
  },
  {
   "cell_type": "markdown",
   "metadata": {},
   "source": [
    "## Let's load today's lesson!\n",
    "\n",
    "### Open Azure Notebooks library \n",
    "\n",
    "Go to https://notebooks.azure.com -> Sign in if needed -> Select **python-codeacademy-sg**\n",
    "\n",
    "### Update lesson file to latest version\n",
    "\n",
    "Select **New** -> **From URL** -> input https://raw.githubusercontent.com/viettrung9012/python-codeacademy-sg/master/Lesson4.ipynb (URL is available in **Lesson4.ipynb**) -> Click outside input then select **Upload** (overwrite if needed)\n",
    "\n",
    "### Open Jupyter lab\n",
    "\n",
    "From your browser's bookmark or **Run** -> Change browser URL path from **/nb/tree** to **/nb/lab**\n",
    "\n",
    "Select **Lesson4.ipynb**"
   ]
  },
  {
   "cell_type": "markdown",
   "metadata": {},
   "source": [
    "## What is a CSV file?\n",
    "\n",
    "A CSV is a comma separated values file which allows data to be saved in a table structured format. A CSV file is similar to an Excel spreadsheet, though it doesn't have the style formatting and has a .csv extension instead. Traditionally they take the form of a text file containing information separated by commas, hence the name.\n",
    "\n",
    "### Content in CSV\n",
    "\n",
    "Starting from this lesson, we will use the data from Biggest Loser. \n",
    "\n",
    "For those who are unfamiliar with the Biggest Loser step challenge, this was a 4-week long challenge where teams (each consisting 5 members) combined their daily step count in order to reach these goals:\n",
    "\n",
    "    1. To be the first team to reach 1 million steps\n",
    "\n",
    "    2. To have the highest overall step count amongst all teams\n",
    "\n",
    "    3. To show the most improved team step count (from weeks 1+2 to weeks 3+4)\n",
    "\n",
    "*** The following sample data is from the Biggest Loser step challenge. ***\n",
    "\n",
    "     team_no,team_name,team_captain,team_member,2018-04-02,2018-04-03\n",
    "\n",
    "     1,TBD,FALSE,1-1,11980,10437\n",
    "\n",
    "     1,TBD,FALSE,1-2,22935,13399\n",
    "\n",
    "However, CSV file is a table, as we are familiar with Excel, to make it more clear, we can have a comparison with Excel we generally use in our daily work. The first row is the column names, and the specific information of each person starts from the second row.\n",
    "\n",
    "If you open the CSV file using a text Editor such as Notepad, you'll see the content as above.\n",
    "\n",
    "If you open the CSV file using Excel, the content will have the same format as a .xls file."
   ]
  },
  {
   "cell_type": "markdown",
   "metadata": {},
   "source": [
    "## List contents of a CSV file\n",
    "\n",
    "To read and analyse the data, we use the Python csv library. CSV literally stands for comma separated variable, where the comma is what is known as a \"delimiter.\"\n",
    "\n",
    "   *** Tips: Whatever the libraries you need, you should import all the necessary libraries at the beginnng of the code.***\n",
    "    \n",
    "** Let's get started! **\n",
    "\n",
    "### How to read a CSV file in Python? -- `csv.reader()` function\n",
    "\n",
    "    1. The first thing we need to do is import CSV, so we can use the functions in that library.\n",
    "    2. Open the file by path\n",
    "    3. To read a CSV file, we can use csv.reader() function under Python csv library\n",
    "    4. Use \"for\" statement to fetch the data row by row from a CSV file\n",
    "    5. Print it\n"
   ]
  },
  {
   "cell_type": "code",
   "execution_count": null,
   "metadata": {},
   "outputs": [],
   "source": [
    "# Print CSV file\n",
    "import csv\n",
    "with open('Biggest Loser 2018.csv') as csvfile:\n",
    "    readCSV = csv.reader(csvfile)\n",
    "    for row in readCSV:\n",
    "        print(row)"
   ]
  },
  {
   "cell_type": "markdown",
   "metadata": {},
   "source": [
    "Above, we've shown how to open a CSV file and read by each row.\n",
    "\n",
    "### Print specific line\n",
    "\n",
    "Also, you can print specific data by index on each row.\n",
    "\n",
    "Please refer to the code block below:"
   ]
  },
  {
   "cell_type": "code",
   "execution_count": null,
   "metadata": {},
   "outputs": [],
   "source": [
    "# Print CSV file\n",
    "import csv\n",
    "with open('Biggest Loser 2018.csv') as csvfile:\n",
    "    readCSV = csv.reader(csvfile)\n",
    "    for row in readCSV:\n",
    "        print(row[0], row[1], row[2])"
   ]
  },
  {
   "cell_type": "markdown",
   "metadata": {},
   "source": [
    "#### `with` statement\n",
    "\n",
    "From the code above, we use a keyword `with` when opening the CSV file. Then what's `with`? And what's the `with` statement used for?\n",
    "\n",
    "By using `with` statement, you can get better syntax and errors handling. We call it exceptions handling.\n",
    "\n",
    "`with` statement simplifies errors handling by wrapping common preparation and cleanup tasks. In addition, it will automatically close the file even if there are errors when opening it. The `with` statement also provides a way for ensuring that a clean-up is always used.\n",
    "\n",
    "Here is how we print the second row of the CSV data:"
   ]
  },
  {
   "cell_type": "code",
   "execution_count": null,
   "metadata": {},
   "outputs": [],
   "source": [
    "# Print the data of first line\n",
    "import csv\n",
    "with open('Biggest Loser 2018.csv') as csvfile:\n",
    "    readCSV = csv.reader(csvfile)\n",
    "    for row_index, row in enumerate(readCSV):\n",
    "        if row_index == 1:\n",
    "            print(row)\n",
    "            break"
   ]
  },
  {
   "cell_type": "markdown",
   "metadata": {},
   "source": [
    "As we already know, the index of a **list** starts from 0, this rule suits for everywhere in coding as well. \n",
    "\n",
    "CSV is a table (or a list of list of cell), therefore, the index of column and row start from 0 as well.\n",
    "\n",
    "From the sample above, when row_index == 0, which means printing the column names, when row_index == 1, then it can print the first person's data in the table."
   ]
  },
  {
   "cell_type": "markdown",
   "metadata": {},
   "source": [
    "## Total Steps for each member\n",
    "\n",
    "After the Biggest Loser step challenge, I think all the attendees wonder -- **How many steps did they clock in total?**\n",
    "\n",
    "It's not a hard question, let's do coding to get the answer.\n",
    "\n",
    "### Steps statistics\n",
    "\n",
    "In this part, we should know two things.\n",
    "\n",
    "   * Which rows are the data for attendees.\n",
    "   * Which columns are the data for steps. \n",
    "\n",
    "Seen from the table, we can easily figure out the answers.\n",
    "  \n",
    "   * -- Rows start from the second row to the end, that is to say, the index starts from 1(We also can say greater than 0, not including 0 -- row_index > 0).\n",
    "   * -- Columns start from the fifth column to the end, that is to say, the index starts from 4(We also can say greater than 3, not including 3 -- column_index > 3).\n",
    "   \n",
    "Please refer to the code block below:\n",
    "   "
   ]
  },
  {
   "cell_type": "code",
   "execution_count": null,
   "metadata": {},
   "outputs": [],
   "source": [
    "# Print total steps per person\n",
    "import csv\n",
    "with open('Biggest Loser 2018.csv') as csvfile:                                        # Open the CSV file by path\n",
    "    readCSV = csv.reader(csvfile)                                                      # Read the CSV file\n",
    "    for row_index, row in enumerate(readCSV):                                          # \"for\" loop statement to fetch the data                     \n",
    "        if row_index > 0:                                                              # Rows start from index 1\n",
    "            total_steps = 0                                                             # Define a parameter to store each attendees' total steps\n",
    "            for column_index, steps_in_column in enumerate(row):                       # Calculate the total steps by using \"for\" loop statement\n",
    "                if column_index > 3 and steps_in_column != '':                         # Columns start from index 4\n",
    "                    total_steps = total_steps + int(steps_in_column)                 \n",
    "            print(\"Total steps of Member\" + str(row_index) + \" is:\" + str(total_steps)) # After \"for\" statement completes running, totalSteps is the answer we want"
   ]
  },
  {
   "cell_type": "markdown",
   "metadata": {},
   "source": [
    "### Type casting `int()`\n",
    "From the code block above, we get total steps for every attendee, and print them one by one.\n",
    "\n",
    "You may have noticed something, when calculating the total steps, we use a new thing in the code on Line 10.\n",
    "\n",
    "```python \n",
    "totalSteps = totalSteps + int(steps_in_column) \n",
    "```\n",
    "** **\n",
    "\n",
    "Last week, we learnt str(), which is used for converting other types to string. Now I'm going to talk about int().\n",
    "\n",
    "When fetching the data from a table, the data types are the same -- All are string type.\n",
    "\n",
    "Let's check the code block again.\n",
    "\n",
    "```python \n",
    "totalSteps = 0\n",
    "    for column_index, steps_in_column in enumerate(row):  \n",
    "        if column_index > 3 and steps_in_column != '':                                \n",
    "            totalSteps = totalSteps + int(steps_in_column)\n",
    "```\n",
    "** **\n",
    "\n",
    "We define totalSteps and set initialization to 0. Therefore, it is an integer.\n",
    "\n",
    "Meanwhile, steps_in_column is the data from table, which is a string.\n",
    "\n",
    "Since string type can't be used for computing, we need to convert the string to integer if you want to do addition here. \n",
    "\n",
    "As a result, **`int()` function is used for converting other types to integer.** We have to do it in computing."
   ]
  },
  {
   "cell_type": "markdown",
   "metadata": {},
   "source": [
    "## Print the names of people with steps count more than 100k\n",
    "\n",
    "Now let's use the data from the CSV file to do some simple analysis.\n",
    "\n",
    "In last section, we have already printed every attendees' total steps, then use the data to compare with 100k, we can figure out who has more than 100k steps.\n",
    "\n",
    "*** But question: How to print the names of people who have more than 100k steps? ***\n",
    "\n",
    "We can know the sequence number of the members, but we don't the know their names.\n",
    "\n",
    "Can we print the names by the column name or column index? -- **Actually, we can't make it if using the way above!!!**\n",
    "\n",
    "### How to print the names by column name or column index? -- `csv.DictReader()` function\n",
    "\n",
    "When reading CSV file, we use **`csv.reader()`**, then loop printing the data row by row. In this way, we don't know which column the data belongs to.\n",
    "\n",
    "Now I'm telling you another way to read the CSV file, **`csv.DictReader()`**. The returning object looks like a dictionary, operates like a regular reader, and maps the information read into a dict whose keys are given by the optional fieldnames parameter.\n",
    "\n",
    "More details about `csv.DictReader()` you can find here: https://docs.python.org/3/library/csv.html#csv.DictReader\n",
    "\n",
    "#### Get the column names\n",
    "\n",
    "Please refer to the code block below:\n"
   ]
  },
  {
   "cell_type": "code",
   "execution_count": null,
   "metadata": {},
   "outputs": [],
   "source": [
    "# Sample for DictReader\n",
    "# Print header\n",
    "import csv\n",
    "with open('Biggest Loser 2018.csv') as csvfile:\n",
    "    readCSV = csv.DictReader(csvfile)\n",
    "    header = readCSV.fieldnames\n",
    "    print(header)\n"
   ]
  },
  {
   "cell_type": "markdown",
   "metadata": {},
   "source": [
    "\n",
    "From the results printed above, the \"header\" is a list of the **column names**.\n",
    "\n",
    "#### Print the data by column index and column name\n",
    "\n",
    "Please refer to the code block below:"
   ]
  },
  {
   "cell_type": "code",
   "execution_count": null,
   "metadata": {},
   "outputs": [],
   "source": [
    "# Print the data by column index and column name\n",
    "import csv\n",
    "with open('Biggest Loser 2018.csv') as csvfile:\n",
    "    readCSV = csv.DictReader(csvfile)\n",
    "    header = readCSV.fieldnames\n",
    "    team_number = header[0]\n",
    "    team_name = header[1]\n",
    "    for row in readCSV:\n",
    "        print(row[team_number], row[team_name], row['team_captain'], row['team_member'])"
   ]
  },
  {
   "cell_type": "markdown",
   "metadata": {},
   "source": [
    "\n",
    "#### Print the names with corresponding steps\n",
    "\n",
    "Please refer to the code block below:\n"
   ]
  },
  {
   "cell_type": "code",
   "execution_count": null,
   "metadata": {},
   "outputs": [],
   "source": [
    "# Print total steps per person by using DictReader\n",
    "import csv\n",
    "with open('Biggest Loser 2018.csv') as csvfile:\n",
    "    readCSV = csv.DictReader(csvfile)\n",
    "    header = readCSV.fieldnames\n",
    "    for row in readCSV:\n",
    "        total_steps = 0\n",
    "        for column_index, steps_in_column in enumerate(header):\n",
    "            steps_in_column = row[header[column_index]]\n",
    "            if column_index > 3 and steps_in_column != '':\n",
    "                total_steps = total_steps + int(steps_in_column)\n",
    "        print(\"Total steps of \" + row['team_member'] + \" is:\" + str(total_steps))\n"
   ]
  },
  {
   "cell_type": "markdown",
   "metadata": {},
   "source": [
    "### Write a function for counting total steps\n",
    "\n",
    "Steps start from column 5, we can count the total steps by looping header index starting from 4, which is column_index > 3\n",
    "\n",
    "```python\n",
    "def total_steps_by_row(row, header):\n",
    "    totalSteps = 0                                                       # Define totalSteps\n",
    "    for header_index, fieldNames in enumerate(header):                   # Looping header for counting the steps\n",
    "        steps_in_column = row[header[header_index]]\n",
    "        if header_index > 3 and steps_in_column != '':                   # Step amount starts from column index 4\n",
    "            totalSteps = totalSteps + int(steps_in_column)\n",
    "    return totalSteps\n",
    "```\n",
    "** **\n",
    "By reusing the function, we can get the total steps per person, then compare with 100k\n",
    "\n",
    "We can define a string parameter, **NamesForStepsMoreThan100K** to store the names which satisfy the conditions.\n",
    "\n",
    "Please refer to the code block below:"
   ]
  },
  {
   "cell_type": "code",
   "execution_count": null,
   "metadata": {},
   "outputs": [],
   "source": [
    "# Print names of people with steps count more than 100k\n",
    "import csv\n",
    "\n",
    "\n",
    "def total_steps_by_row(row, header):\n",
    "    total_steps = 0\n",
    "    for header_index, field_names in enumerate(header):\n",
    "        steps_in_column = row[header[header_index]]\n",
    "        if header_index > 3 and steps_in_column != '':\n",
    "            total_steps = total_steps + int(steps_in_column)\n",
    "    return total_steps\n",
    "\n",
    "\n",
    "with open('Biggest Loser 2018.csv') as csvfile:\n",
    "    readCSV = csv.DictReader(csvfile)\n",
    "    header = readCSV.fieldnames\n",
    "    NamesForStepsMoreThan100K = []\n",
    "    \n",
    "    for row in readCSV:\n",
    "        total_steps = total_steps_by_row(row, header)\n",
    "        if total_steps >= 100000:\n",
    "            NamesForStepsMoreThan100K.append(row['team_member'])\n",
    "    print(\"Steps more than 100K: \" + str(NamesForStepsMoreThan100K))\n"
   ]
  },
  {
   "cell_type": "markdown",
   "metadata": {},
   "source": [
    "**Question: Following the code block above, can you complete a code block to print the names of people with steps count more than 300k and 400k?**"
   ]
  },
  {
   "cell_type": "code",
   "execution_count": null,
   "metadata": {},
   "outputs": [],
   "source": [
    "# Write you code here:\n",
    "\n",
    "# Read from CSV file\n",
    "# Count for total steps\n",
    "# Compare with 300K/400k\n",
    "# Print the names\n",
    "\n"
   ]
  },
  {
   "cell_type": "markdown",
   "metadata": {},
   "source": [
    "## Print total steps for each team\n",
    "\n",
    "From the code above, we have completed a function for counting total steps for each attendee.\n",
    "\n",
    "To print the total steps for each team, what else we should do? -- We should know **all the team names**.\n",
    "\n",
    "Let's write more functions.  \n",
    "\n",
    "### Get all the team names\n",
    "\n",
    "To store the team names, create a list.\n",
    "\n",
    "Please refer to the code block below:\n",
    "\n",
    "```python\n",
    "def get_team_names_from_data(steps_data):\n",
    "    team_names = []                              # Create a list to store all the team names\n",
    "    for row in steps_data:                        # Loop the CSV file to get the team name from each row\n",
    "        if row['team_name'] not in team_names:   # If the team name is not in the list, then append it to the list\n",
    "            team_names.append(row['team_name'])\n",
    "    return team_names\n",
    "```\n",
    "** **\n",
    "### Count total steps by team name \n",
    "\n",
    "After getting the team name, the next step is count the total steps by team name.\n",
    "\n",
    "Please refer to the code block below:\n",
    "\n",
    "```python\n",
    "def get_total_steps_by_team_name_from_data(steps_data, header, team_name):\n",
    "    team_total_steps = 0\n",
    "    for row in steps_data:\n",
    "        if row['team_name'] == team_name:   # If the \"team_name\" in a row equals the target team_name, then plus it\n",
    "            team_total_steps = team_total_steps + total_steps_by_row(row, header)\n",
    "```\n",
    "** **\n",
    "### Loop for team names\n",
    "\n",
    "To print the total steps for each team, let's do a loop for the team names outside the code block above.\n",
    "\n",
    "Please refer to the code block below:\n",
    "\n",
    "```python\n",
    "for name in team_names:\n",
    "    total_steps_by_team = get_total_steps_by_team_name_from_data(steps_data, name)\n",
    "```\n",
    "\n",
    "** **\n",
    "\n",
    "***Tips: When using csv.reader() or csv.DictReader() in Python, all the data only can be read one time. After reading, the data will be deleted in memory. If you want to use the data for multi-times, you'd better store the data into another new list, then you can reuse it.***\n",
    "\n",
    "### Reference\n",
    "\n",
    "** Entire code for printing total steps by each team**\n",
    "\n",
    "Please refer to the code block below:"
   ]
  },
  {
   "cell_type": "code",
   "execution_count": null,
   "metadata": {},
   "outputs": [],
   "source": [
    "# Print total steps by each team\n",
    "import csv\n",
    "\n",
    "\n",
    "def total_steps_by_row(row, header):\n",
    "    total_steps = 0\n",
    "    for header_index, fieldNames in enumerate(header):\n",
    "        steps_in_column = row[header[header_index]]\n",
    "        if header_index > 3 and steps_in_column != '':\n",
    "            total_steps = total_steps + int(steps_in_column)\n",
    "    return total_steps\n",
    "\n",
    "\n",
    "def get_team_names(steps_data):\n",
    "    team_names = []\n",
    "    for row in steps_data:\n",
    "        if row['team_name'] not in team_names:\n",
    "            team_names.append(row['team_name'])\n",
    "    return team_names\n",
    "\n",
    "\n",
    "def get_total_steps_by_team_name_from_data(steps_data, header, team_name):\n",
    "    team_total_steps = 0\n",
    "    for row in steps_data:\n",
    "        if row['team_name'] == team_name:\n",
    "            team_total_steps = team_total_steps + total_steps_by_row(row, header)\n",
    "    return team_total_steps\n",
    "\n",
    "\n",
    "with open('Biggest Loser 2018.csv') as csvfile:\n",
    "    readCSV = csv.DictReader(csvfile)\n",
    "    header = readCSV.fieldnames                 # Get the header and pass to the function get_total_steps_by_team_name_from_data(steps_data, header, team_name)\n",
    "    stepsData = list(readCSV)                   # For avoiding reading from a file multiple times(because it's not efficient), convert the data to a list for reuse\n",
    "    team_names = get_team_names(stepsData)\n",
    "for name in team_names:\n",
    "    total_steps_by_team = get_total_steps_by_team_name_from_data(stepsData, header, name)\n",
    "    print(\"Total steps of Team \" + name + \" is: \" + str(total_steps_by_team))\n"
   ]
  },
  {
   "cell_type": "markdown",
   "metadata": {},
   "source": [
    "**That's it for Lesson 4!**\n",
    "\n",
    "**See you next week!**"
   ]
  }
 ],
 "metadata": {
  "kernelspec": {
   "display_name": "Python 3",
   "language": "python",
   "name": "python3"
  },
  "language_info": {
   "codemirror_mode": {
    "name": "ipython",
    "version": 3
   },
   "file_extension": ".py",
   "mimetype": "text/x-python",
   "name": "python",
   "nbconvert_exporter": "python",
   "pygments_lexer": "ipython3",
   "version": "3.6.3"
  }
 },
 "nbformat": 4,
 "nbformat_minor": 2
}
