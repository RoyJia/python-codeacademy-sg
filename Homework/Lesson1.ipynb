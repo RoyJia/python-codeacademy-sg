{
 "cells": [
  {
   "cell_type": "markdown",
   "metadata": {},
   "source": [
    "## Homework\n",
    "\n",
    "### Lesson 1"
   ]
  },
  {
   "cell_type": "markdown",
   "metadata": {},
   "source": [
    "### Instructions\n",
    "\n",
    "You're a young talented entrepreneur who has just learnt the basics of Python and has decided to take over the world by opening your first coffee shop named KoPythiam (you're also very good at puns and business naming)\n",
    "\n",
    "While writing your Business Plan, you are stuck on four existential questions and have decided to use your Python skills to solve them:\n",
    " - Is an \"Iced Kopi C Gao\" more profitable than a \"Hot Teh Siew Tai\" ?\n",
    " - How many \"Yuan Yang C Kosong\" do I need to sell in order to pay my rent for a year?\n",
    " - Knowing that I buy 1000 units of each ingredient a day:\n",
    "   - How many \"Kopis O\", \"Teh C Gao\", and \"Yuan Yang Siew Tai\" can I make in one day?\n",
    "   - How many units of each ingredient will I have left at the end of the day?\n",
    " - From a Singaporean point of view, does a Teh Tarik taste better in Johor Bahru?\n",
    " \n",
    "Run the following cell to display more information about your shop:"
   ]
  },
  {
   "cell_type": "code",
   "execution_count": null,
   "metadata": {},
   "outputs": [],
   "source": [
    "# Click on this cell and on the play button to display the detailed information about your shop!\n",
    "from IPython.display import HTML\n",
    "HTML(filename='instructions.html')"
   ]
  },
  {
   "cell_type": "markdown",
   "metadata": {},
   "source": [
    "Use the code cell below to solve the questions previously enumerated.\n",
    "\n",
    "My advice will be to first declare the input variables you think will help you resolve the questions. Then, declare all the variables specific to an exercice and finally, print the result of the exercice."
   ]
  },
  {
   "cell_type": "code",
   "execution_count": null,
   "metadata": {},
   "outputs": [],
   "source": [
    "#  Input variables bellow \n",
    "#  (You can use as many variables as you want)\n",
    "\n",
    "\n",
    "\n",
    "#  Exercice 1\n",
    "#   - Print the answer to this question: Is a \"Iced Kopi C Gao\" more profitable than a \"Hot Teh Siew Tai\" ?\n",
    "\n",
    "\n",
    "#  Exercice 2\n",
    "#   - Print the number of \"Yuan Yang C Kosong\" you need to sell in order to pay your rent for a year.\n",
    "\n",
    "\n",
    "\n",
    "#  Exercice 3\n",
    "#   - Knowing that I buy 1000 units of each ingredient a day:\n",
    "#      - How many \"Kopis O\", \"Teh C Gao\", and \"Yuan Yang Siew Tai\" can I make in one day?\n",
    "#      - How many units of each ingredient will I have left at the end of the day?\n",
    "\n",
    "\n",
    "\n",
    "#  Exercice 4\n",
    "#   - From a Singaporean point of view, does a Teh Tarik taste better in Johor Bahru?\n",
    "\n"
   ]
  },
  {
   "cell_type": "code",
   "execution_count": null,
   "metadata": {},
   "outputs": [],
   "source": []
  }
 ],
 "metadata": {
  "kernelspec": {
   "display_name": "Python 3.6",
   "language": "python",
   "name": "python36"
  },
  "language_info": {
   "codemirror_mode": {
    "name": "ipython",
    "version": 3
   },
   "file_extension": ".py",
   "mimetype": "text/x-python",
   "name": "python",
   "nbconvert_exporter": "python",
   "pygments_lexer": "ipython3",
   "version": "3.6.3"
  }
 },
 "nbformat": 4,
 "nbformat_minor": 2
}
