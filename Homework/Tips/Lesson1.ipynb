{
 "cells": [
  {
   "cell_type": "markdown",
   "metadata": {},
   "source": [
    "### Tips\n",
    "\n",
    "Here's an example of the input variables you could create at the beginning of your program:\n",
    "\n",
    "```python\n",
    "coffee_unit_price = 20/100\n",
    "tea_unit_price = 18/100\n",
    "co_milk_unit_price = 32/100\n",
    "ev_milk_unit_price = 25/100\n",
    "sugar_unit_price = 15/100\n",
    "\n",
    "monthly_rent = 2800\n",
    "yearly_rent = 12*monthly_rent\n",
    "```\n",
    "\n",
    "### Answers\n",
    "\n",
    "The answers don't really matter. What's important is the process and the steps you have coded to obtain these answers.\n",
    "\n",
    "Also, for those who have completed some of the exercises, you can compare your results with mine:\n",
    "\n",
    "#### Exercise 1\n",
    "\n",
    "Is an \"Iced Kopi C Gao\" more profitable than a \"Hot Teh Siew Tai\": **False**\n",
    "\n",
    "#### Exercise 2\n",
    "\n",
    "Number of \"Yuan Yang C Kosong\" I need to sell in order to pay my rent for a year: **17409**\n",
    "\n",
    "#### Exercise 3\n",
    "\n",
    "Number of Kopis I can make in the afternoon until I run out of an ingredient : **166**\n",
    "\n",
    " - Coffee units left End Of Day: **2.5**\n",
    " - Tea units left End Of Day: **584.5**\n",
    " - Sugar units left End Of Day: **473.5**\n",
    " - Condensed milk units left End Of Day: **502**\n",
    " - Evaporated milk units left End Of Day: **806**"
   ]
  },
  {
   "cell_type": "code",
   "execution_count": null,
   "metadata": {},
   "outputs": [],
   "source": []
  }
 ],
 "metadata": {
  "kernelspec": {
   "display_name": "Python 3.6",
   "language": "python",
   "name": "python36"
  },
  "language_info": {
   "codemirror_mode": {
    "name": "ipython",
    "version": 3
   },
   "file_extension": ".py",
   "mimetype": "text/x-python",
   "name": "python",
   "nbconvert_exporter": "python",
   "pygments_lexer": "ipython3",
   "version": "3.6.3"
  }
 },
 "nbformat": 4,
 "nbformat_minor": 2
}
