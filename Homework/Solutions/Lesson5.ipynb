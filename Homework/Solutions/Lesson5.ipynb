{
 "cells": [
  {
   "cell_type": "markdown",
   "metadata": {},
   "source": [
    "## In-class practices"
   ]
  },
  {
   "cell_type": "code",
   "execution_count": null,
   "metadata": {},
   "outputs": [],
   "source": [
    "# Normal loop implementation\n",
    "pairs = []\n",
    "for x in range(2, 6):\n",
    "    for y in range(1, 26):\n",
    "        if (y % x == 0):\n",
    "            pairs.append((x, y))\n",
    "\n",
    "print(pairs)\n",
    "\n",
    "# List comprehensions implementation\n",
    "pairs = [(x, y) for x in range(2, 6) for y in range(1, 26) if y % x == 0]\n",
    "print(pairs)\n",
    "\n",
    "# Expected result:\n",
    "# [(2, 2), (2, 4), (2, 6), (2, 8), (2, 10), (2, 12), (2, 14), (2, 16), \n",
    "#  (2, 18), (2, 20), (2, 22), (2, 24), (3, 3), (3, 6), (3, 9), (3, 12), \n",
    "#  (3, 15), (3, 18), (3, 21), (3, 24), (4, 4), (4, 8), (4, 12), (4, 16), \n",
    "#  (4, 20), (4, 24), (5, 5), (5, 10), (5, 15), (5, 20), (5, 25)]"
   ]
  },
  {
   "cell_type": "code",
   "execution_count": null,
   "metadata": {},
   "outputs": [],
   "source": [
    "# list given\n",
    "listOfNum = [76, 23, 54, 68]\n",
    "listOfFloat = [54.1, 53.9, 54.0]\n",
    "listOfAlp = ['e', 'x', 'p']\n",
    "listOfCapAlp = ['E', 'D', 'I', 'A']\n",
    "combined = [listOfNum, listOfFloat, listOfAlp, listOfCapAlp]\n",
    "\n",
    "# flatten array\n",
    "flatten = [str(value) for var in combined for value in var]\n",
    "\n",
    "# sort by ascending order\n",
    "flatten.sort()\n",
    "print(flatten)\n",
    "\n",
    "# Expected result:\n",
    "# ['23', '53.9', '54', '54.0', '54.1', '68', '76', 'A', 'D', 'E', 'I', 'e', 'p', 'x']"
   ]
  },
  {
   "cell_type": "code",
   "execution_count": null,
   "metadata": {},
   "outputs": [],
   "source": [
    "listOfExpedia = ['(', '$', 'a', 'i', 'd', 'e', 'p', 'x', 'E', ')']\n",
    "\n",
    "# hint:\n",
    "# convert list to string by using: ''.join(list)\n",
    "expedia = listOfExpedia[-2:-9:-1]\n",
    "print(expedia)\n",
    "print(''.join(expedia))"
   ]
  },
  {
   "cell_type": "markdown",
   "metadata": {},
   "source": [
    "## Homework (Solutions)"
   ]
  },
  {
   "cell_type": "code",
   "execution_count": null,
   "metadata": {},
   "outputs": [],
   "source": [
    "# Most active day (date of day with most steps in total)\n",
    "\n",
    "# hint: \n",
    "# 1) create a function to calculate total steps a day\n",
    "# 2) loop through each day and get the highest number of steps\n",
    "\n",
    "def get_steps_for_one_day(steps_data, date):\n",
    "    total_steps = 0\n",
    "    for row in steps_data:\n",
    "        if len(row[date]) > 0:\n",
    "            total_steps += int(row[date])\n",
    "    return total_steps\n",
    "\n",
    "def get_total_steps_for_all_day_method_1(steps_data, list_of_date):\n",
    "    highest_steps = 0\n",
    "    highest_date = None\n",
    "    for date in list_of_date:\n",
    "        total_steps_on_date = get_steps_for_one_day(steps_data, date)\n",
    "        if total_steps_on_date > highest_steps:\n",
    "            highest_steps = total_steps_on_date\n",
    "            highest_date = date\n",
    "        print(\"Total steps \"+ str(total_steps_on_date) +\" on \"+ date)\n",
    "\n",
    "    return (highest_date, highest_steps)\n",
    "\n",
    "def get_total_steps_for_all_day_method_2(steps_data, list_of_date):\n",
    "    total_steps_for_all_days = []\n",
    "    for date in list_of_date:\n",
    "        total_steps_for_all_days.append([get_steps_for_one_day(steps_data, date), date])\n",
    "    # sort list by descending order\n",
    "    descending = sorted(total_steps_for_all_days, reverse=True)\n",
    "    # print using list comprehensions\n",
    "    [print(\"Total steps \"+ str(total_steps_on_date) +\" on \"+ date) for total_steps_on_date, date in descending]\n",
    "    # return first list date and total steps\n",
    "    return (descending[0][1], descending[0][0])\n",
    "    \n",
    "\n",
    "import csv\n",
    "\n",
    "with open('Biggest Loser 2018.csv') as csvfile:\n",
    "    readCSV = csv.DictReader(csvfile)\n",
    "    header = readCSV.fieldnames\n",
    "    steps_data = list(readCSV)\n",
    "    list_of_date = header[4:]\n",
    "    \n",
    "    highest_date_1, highest_steps_1 = get_total_steps_for_all_day_method_1(steps_data, list_of_date)\n",
    "    print(\"Method 1: Highest total steps fallen on \"+ highest_date_1 +\" with \"+ str(highest_steps_1) +\" total steps!\")\n",
    "    \n",
    "    highest_date_2, highest_steps_2 = get_total_steps_for_all_day_method_2(steps_data, list_of_date)\n",
    "    print(\"Method 2: Highest total steps fallen on \"+ highest_date_2 +\" with \"+ str(highest_steps_2) +\" total steps!\")\n",
    "\n"
   ]
  }
 ],
 "metadata": {},
 "nbformat": 4,
 "nbformat_minor": 0
}
